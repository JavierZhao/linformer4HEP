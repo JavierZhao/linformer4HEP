{
 "cells": [
  {
   "cell_type": "code",
   "execution_count": 1,
   "metadata": {},
   "outputs": [],
   "source": [
    "import numpy as np"
   ]
  },
  {
   "cell_type": "code",
   "execution_count": 2,
   "metadata": {},
   "outputs": [],
   "source": [
    "import tensorflow as tf\n",
    "from tensorflow.keras import layers, Model"
   ]
  },
  {
   "cell_type": "code",
   "execution_count": null,
   "metadata": {},
   "outputs": [],
   "source": [
    "    import tensorflow as tf\n",
    "    from tensorflow.keras import layers\n",
    "\n",
    "    class DynamicTanh(layers.Layer):\n",
    "        def __init__(self, **kwargs):\n",
    "            super(DynamicTanh, self).__init__(**kwargs)\n",
    "        \n",
    "        def build(self, input_shape):\n",
    "            # Learnable scaling parameter alpha (initialized to 1)\n",
    "            self.alpha = self.add_weight(\n",
    "                name=\"alpha\",\n",
    "                shape=(1,),\n",
    "                initializer=tf.keras.initializers.Ones(),\n",
    "                trainable=True\n",
    "            )\n",
    "            # Learnable offset parameter beta (initialized to 0)\n",
    "            self.beta = self.add_weight(\n",
    "                name=\"beta\",\n",
    "                shape=(1,),\n",
    "                initializer=tf.keras.initializers.Zeros(),\n",
    "                trainable=True\n",
    "            )\n",
    "            super(DynamicTanh, self).build(input_shape)\n",
    "        \n",
    "        def call(self, inputs):\n",
    "            return tf.math.tanh(self.alpha * inputs + self.beta)\n",
    "\n",
    "\n"
   ]
  },
  {
   "cell_type": "code",
   "execution_count": 62,
   "metadata": {},
   "outputs": [
    {
     "data": {
      "text/html": [
       "<pre style=\"white-space:pre;overflow-x:auto;line-height:normal;font-family:Menlo,'DejaVu Sans Mono',consolas,'Courier New',monospace\"><span style=\"font-weight: bold\">Model: \"functional_31\"</span>\n",
       "</pre>\n"
      ],
      "text/plain": [
       "\u001b[1mModel: \"functional_31\"\u001b[0m\n"
      ]
     },
     "metadata": {},
     "output_type": "display_data"
    },
    {
     "data": {
      "text/html": [
       "<pre style=\"white-space:pre;overflow-x:auto;line-height:normal;font-family:Menlo,'DejaVu Sans Mono',consolas,'Courier New',monospace\">┏━━━━━━━━━━━━━━━━━━━━━━━━━━━━━━━━━┳━━━━━━━━━━━━━━━━━━━━━━━━┳━━━━━━━━━━━━━━━┓\n",
       "┃<span style=\"font-weight: bold\"> Layer (type)                    </span>┃<span style=\"font-weight: bold\"> Output Shape           </span>┃<span style=\"font-weight: bold\">       Param # </span>┃\n",
       "┡━━━━━━━━━━━━━━━━━━━━━━━━━━━━━━━━━╇━━━━━━━━━━━━━━━━━━━━━━━━╇━━━━━━━━━━━━━━━┩\n",
       "│ input_layer_28 (<span style=\"color: #0087ff; text-decoration-color: #0087ff\">InputLayer</span>)     │ (<span style=\"color: #00d7ff; text-decoration-color: #00d7ff\">None</span>, <span style=\"color: #00af00; text-decoration-color: #00af00\">32</span>, <span style=\"color: #00af00; text-decoration-color: #00af00\">3</span>)          │             <span style=\"color: #00af00; text-decoration-color: #00af00\">0</span> │\n",
       "├─────────────────────────────────┼────────────────────────┼───────────────┤\n",
       "│ dense_84 (<span style=\"color: #0087ff; text-decoration-color: #0087ff\">Dense</span>)                │ (<span style=\"color: #00d7ff; text-decoration-color: #00d7ff\">None</span>, <span style=\"color: #00af00; text-decoration-color: #00af00\">32</span>, <span style=\"color: #00af00; text-decoration-color: #00af00\">16</span>)         │            <span style=\"color: #00af00; text-decoration-color: #00af00\">64</span> │\n",
       "├─────────────────────────────────┼────────────────────────┼───────────────┤\n",
       "│ transformer_block_14            │ [(<span style=\"color: #00d7ff; text-decoration-color: #00d7ff\">None</span>, <span style=\"color: #00af00; text-decoration-color: #00af00\">32</span>, <span style=\"color: #00af00; text-decoration-color: #00af00\">16</span>),       │         <span style=\"color: #00af00; text-decoration-color: #00af00\">1,648</span> │\n",
       "│ (<span style=\"color: #0087ff; text-decoration-color: #0087ff\">TransformerBlock</span>)              │ (<span style=\"color: #00d7ff; text-decoration-color: #00d7ff\">None</span>, <span style=\"color: #00af00; text-decoration-color: #00af00\">4</span>, <span style=\"color: #00d7ff; text-decoration-color: #00d7ff\">None</span>, <span style=\"color: #00d7ff; text-decoration-color: #00d7ff\">None</span>)] │               │\n",
       "├─────────────────────────────────┼────────────────────────┼───────────────┤\n",
       "│ aggregation_layer_14            │ (<span style=\"color: #00d7ff; text-decoration-color: #00d7ff\">None</span>, <span style=\"color: #00af00; text-decoration-color: #00af00\">16</span>)             │             <span style=\"color: #00af00; text-decoration-color: #00af00\">0</span> │\n",
       "│ (<span style=\"color: #0087ff; text-decoration-color: #0087ff\">AggregationLayer</span>)              │                        │               │\n",
       "├─────────────────────────────────┼────────────────────────┼───────────────┤\n",
       "│ dense_88 (<span style=\"color: #0087ff; text-decoration-color: #0087ff\">Dense</span>)                │ (<span style=\"color: #00d7ff; text-decoration-color: #00d7ff\">None</span>, <span style=\"color: #00af00; text-decoration-color: #00af00\">16</span>)             │           <span style=\"color: #00af00; text-decoration-color: #00af00\">272</span> │\n",
       "├─────────────────────────────────┼────────────────────────┼───────────────┤\n",
       "│ dense_89 (<span style=\"color: #0087ff; text-decoration-color: #0087ff\">Dense</span>)                │ (<span style=\"color: #00d7ff; text-decoration-color: #00d7ff\">None</span>, <span style=\"color: #00af00; text-decoration-color: #00af00\">5</span>)              │            <span style=\"color: #00af00; text-decoration-color: #00af00\">85</span> │\n",
       "└─────────────────────────────────┴────────────────────────┴───────────────┘\n",
       "</pre>\n"
      ],
      "text/plain": [
       "┏━━━━━━━━━━━━━━━━━━━━━━━━━━━━━━━━━┳━━━━━━━━━━━━━━━━━━━━━━━━┳━━━━━━━━━━━━━━━┓\n",
       "┃\u001b[1m \u001b[0m\u001b[1mLayer (type)                   \u001b[0m\u001b[1m \u001b[0m┃\u001b[1m \u001b[0m\u001b[1mOutput Shape          \u001b[0m\u001b[1m \u001b[0m┃\u001b[1m \u001b[0m\u001b[1m      Param #\u001b[0m\u001b[1m \u001b[0m┃\n",
       "┡━━━━━━━━━━━━━━━━━━━━━━━━━━━━━━━━━╇━━━━━━━━━━━━━━━━━━━━━━━━╇━━━━━━━━━━━━━━━┩\n",
       "│ input_layer_28 (\u001b[38;5;33mInputLayer\u001b[0m)     │ (\u001b[38;5;45mNone\u001b[0m, \u001b[38;5;34m32\u001b[0m, \u001b[38;5;34m3\u001b[0m)          │             \u001b[38;5;34m0\u001b[0m │\n",
       "├─────────────────────────────────┼────────────────────────┼───────────────┤\n",
       "│ dense_84 (\u001b[38;5;33mDense\u001b[0m)                │ (\u001b[38;5;45mNone\u001b[0m, \u001b[38;5;34m32\u001b[0m, \u001b[38;5;34m16\u001b[0m)         │            \u001b[38;5;34m64\u001b[0m │\n",
       "├─────────────────────────────────┼────────────────────────┼───────────────┤\n",
       "│ transformer_block_14            │ [(\u001b[38;5;45mNone\u001b[0m, \u001b[38;5;34m32\u001b[0m, \u001b[38;5;34m16\u001b[0m),       │         \u001b[38;5;34m1,648\u001b[0m │\n",
       "│ (\u001b[38;5;33mTransformerBlock\u001b[0m)              │ (\u001b[38;5;45mNone\u001b[0m, \u001b[38;5;34m4\u001b[0m, \u001b[38;5;45mNone\u001b[0m, \u001b[38;5;45mNone\u001b[0m)] │               │\n",
       "├─────────────────────────────────┼────────────────────────┼───────────────┤\n",
       "│ aggregation_layer_14            │ (\u001b[38;5;45mNone\u001b[0m, \u001b[38;5;34m16\u001b[0m)             │             \u001b[38;5;34m0\u001b[0m │\n",
       "│ (\u001b[38;5;33mAggregationLayer\u001b[0m)              │                        │               │\n",
       "├─────────────────────────────────┼────────────────────────┼───────────────┤\n",
       "│ dense_88 (\u001b[38;5;33mDense\u001b[0m)                │ (\u001b[38;5;45mNone\u001b[0m, \u001b[38;5;34m16\u001b[0m)             │           \u001b[38;5;34m272\u001b[0m │\n",
       "├─────────────────────────────────┼────────────────────────┼───────────────┤\n",
       "│ dense_89 (\u001b[38;5;33mDense\u001b[0m)                │ (\u001b[38;5;45mNone\u001b[0m, \u001b[38;5;34m5\u001b[0m)              │            \u001b[38;5;34m85\u001b[0m │\n",
       "└─────────────────────────────────┴────────────────────────┴───────────────┘\n"
      ]
     },
     "metadata": {},
     "output_type": "display_data"
    },
    {
     "data": {
      "text/html": [
       "<pre style=\"white-space:pre;overflow-x:auto;line-height:normal;font-family:Menlo,'DejaVu Sans Mono',consolas,'Courier New',monospace\"><span style=\"font-weight: bold\"> Total params: </span><span style=\"color: #00af00; text-decoration-color: #00af00\">2,069</span> (8.08 KB)\n",
       "</pre>\n"
      ],
      "text/plain": [
       "\u001b[1m Total params: \u001b[0m\u001b[38;5;34m2,069\u001b[0m (8.08 KB)\n"
      ]
     },
     "metadata": {},
     "output_type": "display_data"
    },
    {
     "data": {
      "text/html": [
       "<pre style=\"white-space:pre;overflow-x:auto;line-height:normal;font-family:Menlo,'DejaVu Sans Mono',consolas,'Courier New',monospace\"><span style=\"font-weight: bold\"> Trainable params: </span><span style=\"color: #00af00; text-decoration-color: #00af00\">2,069</span> (8.08 KB)\n",
       "</pre>\n"
      ],
      "text/plain": [
       "\u001b[1m Trainable params: \u001b[0m\u001b[38;5;34m2,069\u001b[0m (8.08 KB)\n"
      ]
     },
     "metadata": {},
     "output_type": "display_data"
    },
    {
     "data": {
      "text/html": [
       "<pre style=\"white-space:pre;overflow-x:auto;line-height:normal;font-family:Menlo,'DejaVu Sans Mono',consolas,'Courier New',monospace\"><span style=\"font-weight: bold\"> Non-trainable params: </span><span style=\"color: #00af00; text-decoration-color: #00af00\">0</span> (0.00 B)\n",
       "</pre>\n"
      ],
      "text/plain": [
       "\u001b[1m Non-trainable params: \u001b[0m\u001b[38;5;34m0\u001b[0m (0.00 B)\n"
      ]
     },
     "metadata": {},
     "output_type": "display_data"
    }
   ],
   "source": [
    "import tensorflow as tf\n",
    "import numpy as np\n",
    "from tensorflow.keras import layers\n",
    "\n",
    "# Define a simple dynamic tanh activation layer.\n",
    "class DynamicTanh(tf.keras.layers.Layer):\n",
    "    def call(self, inputs):\n",
    "        return tf.math.tanh(inputs)\n",
    "\n",
    "class CustomMultiHeadAttention(tf.keras.layers.Layer):\n",
    "    def __init__(self, d_model, num_heads, alpha=1.0, **kwargs):\n",
    "        \"\"\"\n",
    "        Custom multi-head attention with integrated pairwise delta R bias.\n",
    "\n",
    "        d_model: Model dimension.\n",
    "        num_heads: Number of attention heads.\n",
    "        alpha: Scale factor for the pairwise mask.\n",
    "        \"\"\"\n",
    "        super(CustomMultiHeadAttention, self).__init__(**kwargs)\n",
    "        assert d_model % num_heads == 0, \"d_model must be divisible by num_heads\"\n",
    "        self.d_model = d_model\n",
    "        self.num_heads = num_heads\n",
    "        self.depth = d_model // num_heads\n",
    "        self.alpha = alpha\n",
    "\n",
    "    def build(self, input_shape):\n",
    "        # Create weight matrices for Q, K, and V.\n",
    "        self.wq = self.add_weight(shape=(self.d_model, self.d_model),\n",
    "                                  initializer='glorot_uniform',\n",
    "                                  trainable=True,\n",
    "                                  name=\"wq\")\n",
    "        self.wk = self.add_weight(shape=(self.d_model, self.d_model),\n",
    "                                  initializer='glorot_uniform',\n",
    "                                  trainable=True,\n",
    "                                  name=\"wk\")\n",
    "        self.wv = self.add_weight(shape=(self.d_model, self.d_model),\n",
    "                                  initializer='glorot_uniform',\n",
    "                                  trainable=True,\n",
    "                                  name=\"wv\")\n",
    "        self.dense = tf.keras.layers.Dense(self.d_model)\n",
    "        super(CustomMultiHeadAttention, self).build(input_shape)\n",
    "\n",
    "    def split_heads(self, x, batch_size):\n",
    "        # Split the last dimension into (num_heads, depth) and then transpose.\n",
    "        x = tf.reshape(x, (batch_size, -1, self.num_heads, self.depth))\n",
    "        return tf.transpose(x, perm=[0, 2, 1, 3])\n",
    "\n",
    "    def call(self, x, raw_input=None, return_attention=False):\n",
    "        \"\"\"\n",
    "        x: Tensor of shape (batch, seq_len, d_model) -- the embedded inputs.\n",
    "        raw_input: Tensor of shape (batch, seq_len, 3) -- the original [pt, eta, phi],\n",
    "                   used to compute the pairwise mask (not used in this simplified example).\n",
    "        return_attention: If True, also return the attention weights.\n",
    "        \"\"\"\n",
    "        batch_size = tf.shape(x)[0]\n",
    "\n",
    "        # Linear projections for Q, K, V.\n",
    "        q = tf.matmul(x, self.wq)\n",
    "        k = tf.matmul(x, self.wk)\n",
    "        v = tf.matmul(x, self.wv)\n",
    "\n",
    "        # Split into multiple heads.\n",
    "        q = self.split_heads(q, batch_size)\n",
    "        k = self.split_heads(k, batch_size)\n",
    "        v = self.split_heads(v, batch_size)\n",
    "\n",
    "        # Compute scaled dot-product attention logits.\n",
    "        matmul_qk = tf.matmul(q, k, transpose_b=True)\n",
    "        dk = tf.cast(self.depth, tf.float32)\n",
    "        scaled_attention_logits = matmul_qk / tf.math.sqrt(dk)\n",
    "\n",
    "        # Softmax to get attention weights.\n",
    "        attention_weights = tf.nn.softmax(scaled_attention_logits, axis=-1)\n",
    "        # Compute the attention output.\n",
    "        scaled_attention = tf.matmul(attention_weights, v)\n",
    "        scaled_attention = tf.transpose(scaled_attention, perm=[0, 2, 1, 3])\n",
    "        concat_attention = tf.reshape(scaled_attention, (batch_size, -1, self.d_model))\n",
    "        output = self.dense(concat_attention)\n",
    "        if return_attention:\n",
    "            return output, attention_weights\n",
    "        else:\n",
    "            return output\n",
    "\n",
    "class TransformerBlock(tf.keras.layers.Layer):\n",
    "    def __init__(self, d_model, d_ff, output_dim, num_heads, alpha=1.0, **kwargs):\n",
    "        super(TransformerBlock, self).__init__(**kwargs)\n",
    "        self.mha = CustomMultiHeadAttention(d_model, num_heads, alpha=alpha)\n",
    "        # Replace dynamic tanh with layer normalization\n",
    "        self.layernorm1 = tf.keras.layers.LayerNormalization(epsilon=1e-6)\n",
    "        self.layernorm2 = tf.keras.layers.LayerNormalization(epsilon=1e-6)\n",
    "        self.ffn = tf.keras.Sequential([\n",
    "            layers.Dense(d_ff, activation='relu'),\n",
    "            layers.Dense(d_model)\n",
    "        ])\n",
    "\n",
    "    def call(self, x, return_attention=False):\n",
    "        if return_attention:\n",
    "            attn_output, attn_weights = self.mha(x, return_attention=True)\n",
    "        else:\n",
    "            attn_output = self.mha(x, return_attention=False)\n",
    "        # Apply residual connection followed by layer normalization.\n",
    "        out1 = self.layernorm1(x + attn_output)\n",
    "        ffn_output = self.ffn(out1)\n",
    "        out2 = self.layernorm2(out1 + ffn_output)\n",
    "        if return_attention:\n",
    "            return out2, attn_weights\n",
    "        else:\n",
    "            return out2\n",
    "\n",
    "\n",
    "\n",
    "class AggregationLayer(tf.keras.layers.Layer):\n",
    "    \"\"\"\n",
    "    Aggregates a set of features over the sequence dimension.\n",
    "    Supported aggregations: \"mean\" or \"max\".\n",
    "    \"\"\"\n",
    "    def __init__(self, aggreg=\"mean\", **kwargs):\n",
    "        super(AggregationLayer, self).__init__(**kwargs)\n",
    "        self.aggreg = aggreg\n",
    "\n",
    "    def call(self, inputs):\n",
    "        if self.aggreg == \"mean\":\n",
    "            return tf.reduce_mean(inputs, axis=1)\n",
    "        elif self.aggreg == \"max\":\n",
    "            return tf.reduce_max(inputs, axis=1)\n",
    "        else:\n",
    "            raise ValueError(\"Aggregation not implemented. Use 'mean' or 'max'.\")\n",
    "\n",
    "def build_custom_transformer_classifier(num_particles, feature_dim,\n",
    "                                        d_model=8, d_ff=8, output_dim=8,\n",
    "                                        num_heads=8, alpha=1.0, return_attention=False):\n",
    "    \"\"\"\n",
    "    Build a classifier model with:\n",
    "      - A linear embedding layer.\n",
    "      - A transformer block with integrated pairwise computations.\n",
    "      - Aggregation over the sequence dimension.\n",
    "      - A final classification layer.\n",
    "    \n",
    "    return_attention: If True, the model will output a tuple \n",
    "                      (classification_output, attention_matrix)\n",
    "    \"\"\"\n",
    "    inputs = tf.keras.layers.Input(shape=(num_particles, feature_dim))\n",
    "    \n",
    "    # Linear embedding.\n",
    "    x = tf.keras.layers.Dense(d_model, activation='relu')(inputs)\n",
    "    \n",
    "    # Transformer block.\n",
    "    if return_attention:\n",
    "        x, attn_weights = TransformerBlock(d_model, d_ff, output_dim=d_model,\n",
    "                                             num_heads=num_heads, alpha=alpha)(x, return_attention=True)\n",
    "    else:\n",
    "        x = TransformerBlock(d_model, d_ff, output_dim=d_model,\n",
    "                               num_heads=num_heads, alpha=alpha)(x)\n",
    "    \n",
    "    # Aggregate over the sequence (particle) dimension.\n",
    "    pooled_output = AggregationLayer(aggreg='max')(x)\n",
    "    \n",
    "    # Final dense layers for classification.\n",
    "    x = tf.keras.layers.Dense(16, activation='relu')(pooled_output)\n",
    "    outputs = tf.keras.layers.Dense(5, activation='softmax')(x)\n",
    "    \n",
    "    if return_attention:\n",
    "        model = tf.keras.models.Model(inputs=inputs, outputs=[outputs, attn_weights])\n",
    "    else:\n",
    "        model = tf.keras.models.Model(inputs=inputs, outputs=outputs)\n",
    "    return model\n",
    "\n",
    "# Example instantiation with attention output enabled:\n",
    "num_particles = 32\n",
    "feature_dim = 3  # [pt, eta, phi]\n",
    "model = build_custom_transformer_classifier(\n",
    "    num_particles=num_particles,\n",
    "    feature_dim=feature_dim,\n",
    "    d_model=16,\n",
    "    d_ff=16,\n",
    "    output_dim=16,\n",
    "    num_heads=4,\n",
    "    alpha=1.0,\n",
    "    return_attention=True\n",
    ")\n",
    "model.summary()\n",
    "#model.load_weights('noPairs32.weights.h5')\n",
    "# Example usage:\n"
   ]
  },
  {
   "cell_type": "code",
   "execution_count": 21,
   "metadata": {},
   "outputs": [],
   "source": [
    "from sklearn.model_selection import train_test_split\n"
   ]
  },
  {
   "cell_type": "code",
   "execution_count": 22,
   "metadata": {},
   "outputs": [],
   "source": [
    "x_train = np.load(\"/Users/anrunw/Downloads/l1-jet-id/data/jetid/processed/x_train_robust_32const_ptetaphi.npy\")\n",
    "y_train = np.load(\"/Users/anrunw/Downloads/l1-jet-id/data/jetid/processed/y_train_robust_32const_ptetaphi.npy\")\n",
    "\n",
    "# Perform an 80/20 split on the original training data\n",
    "x_train, x_val, y_train, y_val = train_test_split(\n",
    "    x_train, y_train, test_size=0.2, random_state=42, shuffle=True\n",
    ")\n"
   ]
  },
  {
   "cell_type": "code",
   "execution_count": 56,
   "metadata": {},
   "outputs": [
    {
     "data": {
      "text/html": [
       "<pre style=\"white-space:pre;overflow-x:auto;line-height:normal;font-family:Menlo,'DejaVu Sans Mono',consolas,'Courier New',monospace\"><span style=\"font-weight: bold\">Model: \"functional_29\"</span>\n",
       "</pre>\n"
      ],
      "text/plain": [
       "\u001b[1mModel: \"functional_29\"\u001b[0m\n"
      ]
     },
     "metadata": {},
     "output_type": "display_data"
    },
    {
     "data": {
      "text/html": [
       "<pre style=\"white-space:pre;overflow-x:auto;line-height:normal;font-family:Menlo,'DejaVu Sans Mono',consolas,'Courier New',monospace\">┏━━━━━━━━━━━━━━━━━━━━━━━━━━━━━━━━━┳━━━━━━━━━━━━━━━━━━━━━━━━┳━━━━━━━━━━━━━━━┓\n",
       "┃<span style=\"font-weight: bold\"> Layer (type)                    </span>┃<span style=\"font-weight: bold\"> Output Shape           </span>┃<span style=\"font-weight: bold\">       Param # </span>┃\n",
       "┡━━━━━━━━━━━━━━━━━━━━━━━━━━━━━━━━━╇━━━━━━━━━━━━━━━━━━━━━━━━╇━━━━━━━━━━━━━━━┩\n",
       "│ input_layer_26 (<span style=\"color: #0087ff; text-decoration-color: #0087ff\">InputLayer</span>)     │ (<span style=\"color: #00d7ff; text-decoration-color: #00d7ff\">None</span>, <span style=\"color: #00af00; text-decoration-color: #00af00\">32</span>, <span style=\"color: #00af00; text-decoration-color: #00af00\">3</span>)          │             <span style=\"color: #00af00; text-decoration-color: #00af00\">0</span> │\n",
       "├─────────────────────────────────┼────────────────────────┼───────────────┤\n",
       "│ dense_78 (<span style=\"color: #0087ff; text-decoration-color: #0087ff\">Dense</span>)                │ (<span style=\"color: #00d7ff; text-decoration-color: #00d7ff\">None</span>, <span style=\"color: #00af00; text-decoration-color: #00af00\">32</span>, <span style=\"color: #00af00; text-decoration-color: #00af00\">16</span>)         │            <span style=\"color: #00af00; text-decoration-color: #00af00\">64</span> │\n",
       "├─────────────────────────────────┼────────────────────────┼───────────────┤\n",
       "│ transformer_block_13            │ (<span style=\"color: #00d7ff; text-decoration-color: #00d7ff\">None</span>, <span style=\"color: #00af00; text-decoration-color: #00af00\">32</span>, <span style=\"color: #00af00; text-decoration-color: #00af00\">16</span>)         │         <span style=\"color: #00af00; text-decoration-color: #00af00\">1,648</span> │\n",
       "│ (<span style=\"color: #0087ff; text-decoration-color: #0087ff\">TransformerBlock</span>)              │                        │               │\n",
       "├─────────────────────────────────┼────────────────────────┼───────────────┤\n",
       "│ aggregation_layer_13            │ (<span style=\"color: #00d7ff; text-decoration-color: #00d7ff\">None</span>, <span style=\"color: #00af00; text-decoration-color: #00af00\">16</span>)             │             <span style=\"color: #00af00; text-decoration-color: #00af00\">0</span> │\n",
       "│ (<span style=\"color: #0087ff; text-decoration-color: #0087ff\">AggregationLayer</span>)              │                        │               │\n",
       "├─────────────────────────────────┼────────────────────────┼───────────────┤\n",
       "│ dense_82 (<span style=\"color: #0087ff; text-decoration-color: #0087ff\">Dense</span>)                │ (<span style=\"color: #00d7ff; text-decoration-color: #00d7ff\">None</span>, <span style=\"color: #00af00; text-decoration-color: #00af00\">16</span>)             │           <span style=\"color: #00af00; text-decoration-color: #00af00\">272</span> │\n",
       "├─────────────────────────────────┼────────────────────────┼───────────────┤\n",
       "│ dense_83 (<span style=\"color: #0087ff; text-decoration-color: #0087ff\">Dense</span>)                │ (<span style=\"color: #00d7ff; text-decoration-color: #00d7ff\">None</span>, <span style=\"color: #00af00; text-decoration-color: #00af00\">5</span>)              │            <span style=\"color: #00af00; text-decoration-color: #00af00\">85</span> │\n",
       "└─────────────────────────────────┴────────────────────────┴───────────────┘\n",
       "</pre>\n"
      ],
      "text/plain": [
       "┏━━━━━━━━━━━━━━━━━━━━━━━━━━━━━━━━━┳━━━━━━━━━━━━━━━━━━━━━━━━┳━━━━━━━━━━━━━━━┓\n",
       "┃\u001b[1m \u001b[0m\u001b[1mLayer (type)                   \u001b[0m\u001b[1m \u001b[0m┃\u001b[1m \u001b[0m\u001b[1mOutput Shape          \u001b[0m\u001b[1m \u001b[0m┃\u001b[1m \u001b[0m\u001b[1m      Param #\u001b[0m\u001b[1m \u001b[0m┃\n",
       "┡━━━━━━━━━━━━━━━━━━━━━━━━━━━━━━━━━╇━━━━━━━━━━━━━━━━━━━━━━━━╇━━━━━━━━━━━━━━━┩\n",
       "│ input_layer_26 (\u001b[38;5;33mInputLayer\u001b[0m)     │ (\u001b[38;5;45mNone\u001b[0m, \u001b[38;5;34m32\u001b[0m, \u001b[38;5;34m3\u001b[0m)          │             \u001b[38;5;34m0\u001b[0m │\n",
       "├─────────────────────────────────┼────────────────────────┼───────────────┤\n",
       "│ dense_78 (\u001b[38;5;33mDense\u001b[0m)                │ (\u001b[38;5;45mNone\u001b[0m, \u001b[38;5;34m32\u001b[0m, \u001b[38;5;34m16\u001b[0m)         │            \u001b[38;5;34m64\u001b[0m │\n",
       "├─────────────────────────────────┼────────────────────────┼───────────────┤\n",
       "│ transformer_block_13            │ (\u001b[38;5;45mNone\u001b[0m, \u001b[38;5;34m32\u001b[0m, \u001b[38;5;34m16\u001b[0m)         │         \u001b[38;5;34m1,648\u001b[0m │\n",
       "│ (\u001b[38;5;33mTransformerBlock\u001b[0m)              │                        │               │\n",
       "├─────────────────────────────────┼────────────────────────┼───────────────┤\n",
       "│ aggregation_layer_13            │ (\u001b[38;5;45mNone\u001b[0m, \u001b[38;5;34m16\u001b[0m)             │             \u001b[38;5;34m0\u001b[0m │\n",
       "│ (\u001b[38;5;33mAggregationLayer\u001b[0m)              │                        │               │\n",
       "├─────────────────────────────────┼────────────────────────┼───────────────┤\n",
       "│ dense_82 (\u001b[38;5;33mDense\u001b[0m)                │ (\u001b[38;5;45mNone\u001b[0m, \u001b[38;5;34m16\u001b[0m)             │           \u001b[38;5;34m272\u001b[0m │\n",
       "├─────────────────────────────────┼────────────────────────┼───────────────┤\n",
       "│ dense_83 (\u001b[38;5;33mDense\u001b[0m)                │ (\u001b[38;5;45mNone\u001b[0m, \u001b[38;5;34m5\u001b[0m)              │            \u001b[38;5;34m85\u001b[0m │\n",
       "└─────────────────────────────────┴────────────────────────┴───────────────┘\n"
      ]
     },
     "metadata": {},
     "output_type": "display_data"
    },
    {
     "data": {
      "text/html": [
       "<pre style=\"white-space:pre;overflow-x:auto;line-height:normal;font-family:Menlo,'DejaVu Sans Mono',consolas,'Courier New',monospace\"><span style=\"font-weight: bold\"> Total params: </span><span style=\"color: #00af00; text-decoration-color: #00af00\">2,069</span> (8.08 KB)\n",
       "</pre>\n"
      ],
      "text/plain": [
       "\u001b[1m Total params: \u001b[0m\u001b[38;5;34m2,069\u001b[0m (8.08 KB)\n"
      ]
     },
     "metadata": {},
     "output_type": "display_data"
    },
    {
     "data": {
      "text/html": [
       "<pre style=\"white-space:pre;overflow-x:auto;line-height:normal;font-family:Menlo,'DejaVu Sans Mono',consolas,'Courier New',monospace\"><span style=\"font-weight: bold\"> Trainable params: </span><span style=\"color: #00af00; text-decoration-color: #00af00\">2,069</span> (8.08 KB)\n",
       "</pre>\n"
      ],
      "text/plain": [
       "\u001b[1m Trainable params: \u001b[0m\u001b[38;5;34m2,069\u001b[0m (8.08 KB)\n"
      ]
     },
     "metadata": {},
     "output_type": "display_data"
    },
    {
     "data": {
      "text/html": [
       "<pre style=\"white-space:pre;overflow-x:auto;line-height:normal;font-family:Menlo,'DejaVu Sans Mono',consolas,'Courier New',monospace\"><span style=\"font-weight: bold\"> Non-trainable params: </span><span style=\"color: #00af00; text-decoration-color: #00af00\">0</span> (0.00 B)\n",
       "</pre>\n"
      ],
      "text/plain": [
       "\u001b[1m Non-trainable params: \u001b[0m\u001b[38;5;34m0\u001b[0m (0.00 B)\n"
      ]
     },
     "metadata": {},
     "output_type": "display_data"
    }
   ],
   "source": [
    "model.compile(optimizer='adam', loss='categorical_crossentropy', metrics=['accuracy'])\n",
    "#model.load_weights('noPairs32.weights.h5')\n",
    "\n",
    "model.summary()\n",
    "\n",
    "\n",
    "\n"
   ]
  },
  {
   "cell_type": "code",
   "execution_count": 53,
   "metadata": {},
   "outputs": [
    {
     "name": "stdout",
     "output_type": "stream",
     "text": [
      "Epoch 1/250\n"
     ]
    },
    {
     "name": "stderr",
     "output_type": "stream",
     "text": [
      "2025-04-02 18:04:18.775814: E tensorflow/core/grappler/optimizers/meta_optimizer.cc:961] PluggableGraphOptimizer failed: INVALID_ARGUMENT: Failed to deserialize the `graph_buf`.\n"
     ]
    },
    {
     "name": "stdout",
     "output_type": "stream",
     "text": [
      "\u001b[1m485/485\u001b[0m \u001b[32m━━━━━━━━━━━━━━━━━━━━\u001b[0m\u001b[37m\u001b[0m \u001b[1m19s\u001b[0m 34ms/step - accuracy: 0.7645 - loss: 0.6673 - val_accuracy: 0.7674 - val_loss: 0.6614\n",
      "Epoch 2/250\n",
      "\u001b[1m485/485\u001b[0m \u001b[32m━━━━━━━━━━━━━━━━━━━━\u001b[0m\u001b[37m\u001b[0m \u001b[1m15s\u001b[0m 30ms/step - accuracy: 0.7683 - loss: 0.6585 - val_accuracy: 0.7684 - val_loss: 0.6589\n",
      "Epoch 3/250\n",
      "\u001b[1m485/485\u001b[0m \u001b[32m━━━━━━━━━━━━━━━━━━━━\u001b[0m\u001b[37m\u001b[0m \u001b[1m15s\u001b[0m 31ms/step - accuracy: 0.7692 - loss: 0.6572 - val_accuracy: 0.7697 - val_loss: 0.6570\n",
      "Epoch 4/250\n",
      "\u001b[1m485/485\u001b[0m \u001b[32m━━━━━━━━━━━━━━━━━━━━\u001b[0m\u001b[37m\u001b[0m \u001b[1m15s\u001b[0m 30ms/step - accuracy: 0.7695 - loss: 0.6569 - val_accuracy: 0.7679 - val_loss: 0.6596\n",
      "Epoch 5/250\n",
      "\u001b[1m485/485\u001b[0m \u001b[32m━━━━━━━━━━━━━━━━━━━━\u001b[0m\u001b[37m\u001b[0m \u001b[1m15s\u001b[0m 31ms/step - accuracy: 0.7700 - loss: 0.6553 - val_accuracy: 0.7617 - val_loss: 0.6722\n",
      "Epoch 6/250\n",
      "\u001b[1m485/485\u001b[0m \u001b[32m━━━━━━━━━━━━━━━━━━━━\u001b[0m\u001b[37m\u001b[0m \u001b[1m16s\u001b[0m 32ms/step - accuracy: 0.7693 - loss: 0.6573 - val_accuracy: 0.7707 - val_loss: 0.6534\n",
      "Epoch 7/250\n",
      "\u001b[1m485/485\u001b[0m \u001b[32m━━━━━━━━━━━━━━━━━━━━\u001b[0m\u001b[37m\u001b[0m \u001b[1m15s\u001b[0m 31ms/step - accuracy: 0.7707 - loss: 0.6536 - val_accuracy: 0.7583 - val_loss: 0.6801\n",
      "Epoch 8/250\n",
      "\u001b[1m485/485\u001b[0m \u001b[32m━━━━━━━━━━━━━━━━━━━━\u001b[0m\u001b[37m\u001b[0m \u001b[1m15s\u001b[0m 30ms/step - accuracy: 0.7711 - loss: 0.6522 - val_accuracy: 0.7702 - val_loss: 0.6549\n",
      "Epoch 9/250\n",
      "\u001b[1m485/485\u001b[0m \u001b[32m━━━━━━━━━━━━━━━━━━━━\u001b[0m\u001b[37m\u001b[0m \u001b[1m15s\u001b[0m 31ms/step - accuracy: 0.7706 - loss: 0.6531 - val_accuracy: 0.7716 - val_loss: 0.6523\n",
      "Epoch 10/250\n",
      "\u001b[1m485/485\u001b[0m \u001b[32m━━━━━━━━━━━━━━━━━━━━\u001b[0m\u001b[37m\u001b[0m \u001b[1m14s\u001b[0m 30ms/step - accuracy: 0.7707 - loss: 0.6509 - val_accuracy: 0.7653 - val_loss: 0.6636\n",
      "Epoch 11/250\n",
      "\u001b[1m485/485\u001b[0m \u001b[32m━━━━━━━━━━━━━━━━━━━━\u001b[0m\u001b[37m\u001b[0m \u001b[1m15s\u001b[0m 31ms/step - accuracy: 0.7717 - loss: 0.6515 - val_accuracy: 0.7692 - val_loss: 0.6563\n",
      "Epoch 12/250\n",
      "\u001b[1m278/485\u001b[0m \u001b[32m━━━━━━━━━━━\u001b[0m\u001b[37m━━━━━━━━━\u001b[0m \u001b[1m5s\u001b[0m 29ms/step - accuracy: 0.7711 - loss: 0.6508"
     ]
    },
    {
     "ename": "KeyboardInterrupt",
     "evalue": "",
     "output_type": "error",
     "traceback": [
      "\u001b[31m---------------------------------------------------------------------------\u001b[39m",
      "\u001b[31mKeyboardInterrupt\u001b[39m                         Traceback (most recent call last)",
      "\u001b[36mCell\u001b[39m\u001b[36m \u001b[39m\u001b[32mIn[53]\u001b[39m\u001b[32m, line 13\u001b[39m\n\u001b[32m     11\u001b[39m model.load_weights(\u001b[33m'\u001b[39m\u001b[33m1layerTransformerLayer.weights.h5\u001b[39m\u001b[33m'\u001b[39m)\n\u001b[32m     12\u001b[39m model.compile(optimizer=\u001b[33m'\u001b[39m\u001b[33madam\u001b[39m\u001b[33m'\u001b[39m, loss=\u001b[33m'\u001b[39m\u001b[33mcategorical_crossentropy\u001b[39m\u001b[33m'\u001b[39m, metrics=[\u001b[33m'\u001b[39m\u001b[33maccuracy\u001b[39m\u001b[33m'\u001b[39m])\n\u001b[32m---> \u001b[39m\u001b[32m13\u001b[39m history = \u001b[43mmodel\u001b[49m\u001b[43m.\u001b[49m\u001b[43mfit\u001b[49m\u001b[43m(\u001b[49m\n\u001b[32m     14\u001b[39m \u001b[43m    \u001b[49m\u001b[43mx_train\u001b[49m\u001b[43m,\u001b[49m\u001b[43m \u001b[49m\u001b[43my_train\u001b[49m\u001b[43m,\u001b[49m\n\u001b[32m     15\u001b[39m \u001b[43m    \u001b[49m\u001b[43mvalidation_data\u001b[49m\u001b[43m=\u001b[49m\u001b[43m(\u001b[49m\u001b[43mx_val\u001b[49m\u001b[43m,\u001b[49m\u001b[43m \u001b[49m\u001b[43my_val\u001b[49m\u001b[43m)\u001b[49m\u001b[43m,\u001b[49m\n\u001b[32m     16\u001b[39m \u001b[43m    \u001b[49m\u001b[43mepochs\u001b[49m\u001b[43m=\u001b[49m\u001b[32;43m250\u001b[39;49m\u001b[43m,\u001b[49m\u001b[43m \u001b[49m\n\u001b[32m     17\u001b[39m \u001b[43m    \u001b[49m\u001b[43mbatch_size\u001b[49m\u001b[43m=\u001b[49m\u001b[32;43m1024\u001b[39;49m\n\u001b[32m     18\u001b[39m \u001b[43m)\u001b[49m\n",
      "\u001b[36mFile \u001b[39m\u001b[32m~/miniconda3/envs/tf_env/lib/python3.12/site-packages/keras/src/utils/traceback_utils.py:117\u001b[39m, in \u001b[36mfilter_traceback.<locals>.error_handler\u001b[39m\u001b[34m(*args, **kwargs)\u001b[39m\n\u001b[32m    115\u001b[39m filtered_tb = \u001b[38;5;28;01mNone\u001b[39;00m\n\u001b[32m    116\u001b[39m \u001b[38;5;28;01mtry\u001b[39;00m:\n\u001b[32m--> \u001b[39m\u001b[32m117\u001b[39m     \u001b[38;5;28;01mreturn\u001b[39;00m \u001b[43mfn\u001b[49m\u001b[43m(\u001b[49m\u001b[43m*\u001b[49m\u001b[43margs\u001b[49m\u001b[43m,\u001b[49m\u001b[43m \u001b[49m\u001b[43m*\u001b[49m\u001b[43m*\u001b[49m\u001b[43mkwargs\u001b[49m\u001b[43m)\u001b[49m\n\u001b[32m    118\u001b[39m \u001b[38;5;28;01mexcept\u001b[39;00m \u001b[38;5;167;01mException\u001b[39;00m \u001b[38;5;28;01mas\u001b[39;00m e:\n\u001b[32m    119\u001b[39m     filtered_tb = _process_traceback_frames(e.__traceback__)\n",
      "\u001b[36mFile \u001b[39m\u001b[32m~/miniconda3/envs/tf_env/lib/python3.12/site-packages/keras/src/backend/tensorflow/trainer.py:371\u001b[39m, in \u001b[36mTensorFlowTrainer.fit\u001b[39m\u001b[34m(self, x, y, batch_size, epochs, verbose, callbacks, validation_split, validation_data, shuffle, class_weight, sample_weight, initial_epoch, steps_per_epoch, validation_steps, validation_batch_size, validation_freq)\u001b[39m\n\u001b[32m    369\u001b[39m \u001b[38;5;28;01mfor\u001b[39;00m step, iterator \u001b[38;5;129;01min\u001b[39;00m epoch_iterator:\n\u001b[32m    370\u001b[39m     callbacks.on_train_batch_begin(step)\n\u001b[32m--> \u001b[39m\u001b[32m371\u001b[39m     logs = \u001b[38;5;28;43mself\u001b[39;49m\u001b[43m.\u001b[49m\u001b[43mtrain_function\u001b[49m\u001b[43m(\u001b[49m\u001b[43miterator\u001b[49m\u001b[43m)\u001b[49m\n\u001b[32m    372\u001b[39m     callbacks.on_train_batch_end(step, logs)\n\u001b[32m    373\u001b[39m     \u001b[38;5;28;01mif\u001b[39;00m \u001b[38;5;28mself\u001b[39m.stop_training:\n",
      "\u001b[36mFile \u001b[39m\u001b[32m~/miniconda3/envs/tf_env/lib/python3.12/site-packages/keras/src/backend/tensorflow/trainer.py:219\u001b[39m, in \u001b[36mTensorFlowTrainer._make_function.<locals>.function\u001b[39m\u001b[34m(iterator)\u001b[39m\n\u001b[32m    215\u001b[39m \u001b[38;5;28;01mdef\u001b[39;00m\u001b[38;5;250m \u001b[39m\u001b[34mfunction\u001b[39m(iterator):\n\u001b[32m    216\u001b[39m     \u001b[38;5;28;01mif\u001b[39;00m \u001b[38;5;28misinstance\u001b[39m(\n\u001b[32m    217\u001b[39m         iterator, (tf.data.Iterator, tf.distribute.DistributedIterator)\n\u001b[32m    218\u001b[39m     ):\n\u001b[32m--> \u001b[39m\u001b[32m219\u001b[39m         opt_outputs = \u001b[43mmulti_step_on_iterator\u001b[49m\u001b[43m(\u001b[49m\u001b[43miterator\u001b[49m\u001b[43m)\u001b[49m\n\u001b[32m    220\u001b[39m         \u001b[38;5;28;01mif\u001b[39;00m \u001b[38;5;129;01mnot\u001b[39;00m opt_outputs.has_value():\n\u001b[32m    221\u001b[39m             \u001b[38;5;28;01mraise\u001b[39;00m \u001b[38;5;167;01mStopIteration\u001b[39;00m\n",
      "\u001b[36mFile \u001b[39m\u001b[32m~/miniconda3/envs/tf_env/lib/python3.12/site-packages/tensorflow/python/util/traceback_utils.py:150\u001b[39m, in \u001b[36mfilter_traceback.<locals>.error_handler\u001b[39m\u001b[34m(*args, **kwargs)\u001b[39m\n\u001b[32m    148\u001b[39m filtered_tb = \u001b[38;5;28;01mNone\u001b[39;00m\n\u001b[32m    149\u001b[39m \u001b[38;5;28;01mtry\u001b[39;00m:\n\u001b[32m--> \u001b[39m\u001b[32m150\u001b[39m   \u001b[38;5;28;01mreturn\u001b[39;00m \u001b[43mfn\u001b[49m\u001b[43m(\u001b[49m\u001b[43m*\u001b[49m\u001b[43margs\u001b[49m\u001b[43m,\u001b[49m\u001b[43m \u001b[49m\u001b[43m*\u001b[49m\u001b[43m*\u001b[49m\u001b[43mkwargs\u001b[49m\u001b[43m)\u001b[49m\n\u001b[32m    151\u001b[39m \u001b[38;5;28;01mexcept\u001b[39;00m \u001b[38;5;167;01mException\u001b[39;00m \u001b[38;5;28;01mas\u001b[39;00m e:\n\u001b[32m    152\u001b[39m   filtered_tb = _process_traceback_frames(e.__traceback__)\n",
      "\u001b[36mFile \u001b[39m\u001b[32m~/miniconda3/envs/tf_env/lib/python3.12/site-packages/tensorflow/python/eager/polymorphic_function/polymorphic_function.py:833\u001b[39m, in \u001b[36mFunction.__call__\u001b[39m\u001b[34m(self, *args, **kwds)\u001b[39m\n\u001b[32m    830\u001b[39m compiler = \u001b[33m\"\u001b[39m\u001b[33mxla\u001b[39m\u001b[33m\"\u001b[39m \u001b[38;5;28;01mif\u001b[39;00m \u001b[38;5;28mself\u001b[39m._jit_compile \u001b[38;5;28;01melse\u001b[39;00m \u001b[33m\"\u001b[39m\u001b[33mnonXla\u001b[39m\u001b[33m\"\u001b[39m\n\u001b[32m    832\u001b[39m \u001b[38;5;28;01mwith\u001b[39;00m OptionalXlaContext(\u001b[38;5;28mself\u001b[39m._jit_compile):\n\u001b[32m--> \u001b[39m\u001b[32m833\u001b[39m   result = \u001b[38;5;28;43mself\u001b[39;49m\u001b[43m.\u001b[49m\u001b[43m_call\u001b[49m\u001b[43m(\u001b[49m\u001b[43m*\u001b[49m\u001b[43margs\u001b[49m\u001b[43m,\u001b[49m\u001b[43m \u001b[49m\u001b[43m*\u001b[49m\u001b[43m*\u001b[49m\u001b[43mkwds\u001b[49m\u001b[43m)\u001b[49m\n\u001b[32m    835\u001b[39m new_tracing_count = \u001b[38;5;28mself\u001b[39m.experimental_get_tracing_count()\n\u001b[32m    836\u001b[39m without_tracing = (tracing_count == new_tracing_count)\n",
      "\u001b[36mFile \u001b[39m\u001b[32m~/miniconda3/envs/tf_env/lib/python3.12/site-packages/tensorflow/python/eager/polymorphic_function/polymorphic_function.py:878\u001b[39m, in \u001b[36mFunction._call\u001b[39m\u001b[34m(self, *args, **kwds)\u001b[39m\n\u001b[32m    875\u001b[39m \u001b[38;5;28mself\u001b[39m._lock.release()\n\u001b[32m    876\u001b[39m \u001b[38;5;66;03m# In this case we have not created variables on the first call. So we can\u001b[39;00m\n\u001b[32m    877\u001b[39m \u001b[38;5;66;03m# run the first trace but we should fail if variables are created.\u001b[39;00m\n\u001b[32m--> \u001b[39m\u001b[32m878\u001b[39m results = \u001b[43mtracing_compilation\u001b[49m\u001b[43m.\u001b[49m\u001b[43mcall_function\u001b[49m\u001b[43m(\u001b[49m\n\u001b[32m    879\u001b[39m \u001b[43m    \u001b[49m\u001b[43margs\u001b[49m\u001b[43m,\u001b[49m\u001b[43m \u001b[49m\u001b[43mkwds\u001b[49m\u001b[43m,\u001b[49m\u001b[43m \u001b[49m\u001b[38;5;28;43mself\u001b[39;49m\u001b[43m.\u001b[49m\u001b[43m_variable_creation_config\u001b[49m\n\u001b[32m    880\u001b[39m \u001b[43m\u001b[49m\u001b[43m)\u001b[49m\n\u001b[32m    881\u001b[39m \u001b[38;5;28;01mif\u001b[39;00m \u001b[38;5;28mself\u001b[39m._created_variables:\n\u001b[32m    882\u001b[39m   \u001b[38;5;28;01mraise\u001b[39;00m \u001b[38;5;167;01mValueError\u001b[39;00m(\u001b[33m\"\u001b[39m\u001b[33mCreating variables on a non-first call to a function\u001b[39m\u001b[33m\"\u001b[39m\n\u001b[32m    883\u001b[39m                    \u001b[33m\"\u001b[39m\u001b[33m decorated with tf.function.\u001b[39m\u001b[33m\"\u001b[39m)\n",
      "\u001b[36mFile \u001b[39m\u001b[32m~/miniconda3/envs/tf_env/lib/python3.12/site-packages/tensorflow/python/eager/polymorphic_function/tracing_compilation.py:139\u001b[39m, in \u001b[36mcall_function\u001b[39m\u001b[34m(args, kwargs, tracing_options)\u001b[39m\n\u001b[32m    137\u001b[39m bound_args = function.function_type.bind(*args, **kwargs)\n\u001b[32m    138\u001b[39m flat_inputs = function.function_type.unpack_inputs(bound_args)\n\u001b[32m--> \u001b[39m\u001b[32m139\u001b[39m \u001b[38;5;28;01mreturn\u001b[39;00m \u001b[43mfunction\u001b[49m\u001b[43m.\u001b[49m\u001b[43m_call_flat\u001b[49m\u001b[43m(\u001b[49m\u001b[43m  \u001b[49m\u001b[38;5;66;43;03m# pylint: disable=protected-access\u001b[39;49;00m\n\u001b[32m    140\u001b[39m \u001b[43m    \u001b[49m\u001b[43mflat_inputs\u001b[49m\u001b[43m,\u001b[49m\u001b[43m \u001b[49m\u001b[43mcaptured_inputs\u001b[49m\u001b[43m=\u001b[49m\u001b[43mfunction\u001b[49m\u001b[43m.\u001b[49m\u001b[43mcaptured_inputs\u001b[49m\n\u001b[32m    141\u001b[39m \u001b[43m\u001b[49m\u001b[43m)\u001b[49m\n",
      "\u001b[36mFile \u001b[39m\u001b[32m~/miniconda3/envs/tf_env/lib/python3.12/site-packages/tensorflow/python/eager/polymorphic_function/concrete_function.py:1322\u001b[39m, in \u001b[36mConcreteFunction._call_flat\u001b[39m\u001b[34m(self, tensor_inputs, captured_inputs)\u001b[39m\n\u001b[32m   1318\u001b[39m possible_gradient_type = gradients_util.PossibleTapeGradientTypes(args)\n\u001b[32m   1319\u001b[39m \u001b[38;5;28;01mif\u001b[39;00m (possible_gradient_type == gradients_util.POSSIBLE_GRADIENT_TYPES_NONE\n\u001b[32m   1320\u001b[39m     \u001b[38;5;129;01mand\u001b[39;00m executing_eagerly):\n\u001b[32m   1321\u001b[39m   \u001b[38;5;66;03m# No tape is watching; skip to running the function.\u001b[39;00m\n\u001b[32m-> \u001b[39m\u001b[32m1322\u001b[39m   \u001b[38;5;28;01mreturn\u001b[39;00m \u001b[38;5;28;43mself\u001b[39;49m\u001b[43m.\u001b[49m\u001b[43m_inference_function\u001b[49m\u001b[43m.\u001b[49m\u001b[43mcall_preflattened\u001b[49m\u001b[43m(\u001b[49m\u001b[43margs\u001b[49m\u001b[43m)\u001b[49m\n\u001b[32m   1323\u001b[39m forward_backward = \u001b[38;5;28mself\u001b[39m._select_forward_and_backward_functions(\n\u001b[32m   1324\u001b[39m     args,\n\u001b[32m   1325\u001b[39m     possible_gradient_type,\n\u001b[32m   1326\u001b[39m     executing_eagerly)\n\u001b[32m   1327\u001b[39m forward_function, args_with_tangents = forward_backward.forward()\n",
      "\u001b[36mFile \u001b[39m\u001b[32m~/miniconda3/envs/tf_env/lib/python3.12/site-packages/tensorflow/python/eager/polymorphic_function/atomic_function.py:216\u001b[39m, in \u001b[36mAtomicFunction.call_preflattened\u001b[39m\u001b[34m(self, args)\u001b[39m\n\u001b[32m    214\u001b[39m \u001b[38;5;28;01mdef\u001b[39;00m\u001b[38;5;250m \u001b[39m\u001b[34mcall_preflattened\u001b[39m(\u001b[38;5;28mself\u001b[39m, args: Sequence[core.Tensor]) -> Any:\n\u001b[32m    215\u001b[39m \u001b[38;5;250m  \u001b[39m\u001b[33;03m\"\"\"Calls with flattened tensor inputs and returns the structured output.\"\"\"\u001b[39;00m\n\u001b[32m--> \u001b[39m\u001b[32m216\u001b[39m   flat_outputs = \u001b[38;5;28;43mself\u001b[39;49m\u001b[43m.\u001b[49m\u001b[43mcall_flat\u001b[49m\u001b[43m(\u001b[49m\u001b[43m*\u001b[49m\u001b[43margs\u001b[49m\u001b[43m)\u001b[49m\n\u001b[32m    217\u001b[39m   \u001b[38;5;28;01mreturn\u001b[39;00m \u001b[38;5;28mself\u001b[39m.function_type.pack_output(flat_outputs)\n",
      "\u001b[36mFile \u001b[39m\u001b[32m~/miniconda3/envs/tf_env/lib/python3.12/site-packages/tensorflow/python/eager/polymorphic_function/atomic_function.py:251\u001b[39m, in \u001b[36mAtomicFunction.call_flat\u001b[39m\u001b[34m(self, *args)\u001b[39m\n\u001b[32m    249\u001b[39m \u001b[38;5;28;01mwith\u001b[39;00m record.stop_recording():\n\u001b[32m    250\u001b[39m   \u001b[38;5;28;01mif\u001b[39;00m \u001b[38;5;28mself\u001b[39m._bound_context.executing_eagerly():\n\u001b[32m--> \u001b[39m\u001b[32m251\u001b[39m     outputs = \u001b[38;5;28;43mself\u001b[39;49m\u001b[43m.\u001b[49m\u001b[43m_bound_context\u001b[49m\u001b[43m.\u001b[49m\u001b[43mcall_function\u001b[49m\u001b[43m(\u001b[49m\n\u001b[32m    252\u001b[39m \u001b[43m        \u001b[49m\u001b[38;5;28;43mself\u001b[39;49m\u001b[43m.\u001b[49m\u001b[43mname\u001b[49m\u001b[43m,\u001b[49m\n\u001b[32m    253\u001b[39m \u001b[43m        \u001b[49m\u001b[38;5;28;43mlist\u001b[39;49m\u001b[43m(\u001b[49m\u001b[43margs\u001b[49m\u001b[43m)\u001b[49m\u001b[43m,\u001b[49m\n\u001b[32m    254\u001b[39m \u001b[43m        \u001b[49m\u001b[38;5;28;43mlen\u001b[39;49m\u001b[43m(\u001b[49m\u001b[38;5;28;43mself\u001b[39;49m\u001b[43m.\u001b[49m\u001b[43mfunction_type\u001b[49m\u001b[43m.\u001b[49m\u001b[43mflat_outputs\u001b[49m\u001b[43m)\u001b[49m\u001b[43m,\u001b[49m\n\u001b[32m    255\u001b[39m \u001b[43m    \u001b[49m\u001b[43m)\u001b[49m\n\u001b[32m    256\u001b[39m   \u001b[38;5;28;01melse\u001b[39;00m:\n\u001b[32m    257\u001b[39m     outputs = make_call_op_in_graph(\n\u001b[32m    258\u001b[39m         \u001b[38;5;28mself\u001b[39m,\n\u001b[32m    259\u001b[39m         \u001b[38;5;28mlist\u001b[39m(args),\n\u001b[32m    260\u001b[39m         \u001b[38;5;28mself\u001b[39m._bound_context.function_call_options.as_attrs(),\n\u001b[32m    261\u001b[39m     )\n",
      "\u001b[36mFile \u001b[39m\u001b[32m~/miniconda3/envs/tf_env/lib/python3.12/site-packages/tensorflow/python/eager/context.py:1500\u001b[39m, in \u001b[36mContext.call_function\u001b[39m\u001b[34m(self, name, tensor_inputs, num_outputs)\u001b[39m\n\u001b[32m   1498\u001b[39m cancellation_context = cancellation.context()\n\u001b[32m   1499\u001b[39m \u001b[38;5;28;01mif\u001b[39;00m cancellation_context \u001b[38;5;129;01mis\u001b[39;00m \u001b[38;5;28;01mNone\u001b[39;00m:\n\u001b[32m-> \u001b[39m\u001b[32m1500\u001b[39m   outputs = \u001b[43mexecute\u001b[49m\u001b[43m.\u001b[49m\u001b[43mexecute\u001b[49m\u001b[43m(\u001b[49m\n\u001b[32m   1501\u001b[39m \u001b[43m      \u001b[49m\u001b[43mname\u001b[49m\u001b[43m.\u001b[49m\u001b[43mdecode\u001b[49m\u001b[43m(\u001b[49m\u001b[33;43m\"\u001b[39;49m\u001b[33;43mutf-8\u001b[39;49m\u001b[33;43m\"\u001b[39;49m\u001b[43m)\u001b[49m\u001b[43m,\u001b[49m\n\u001b[32m   1502\u001b[39m \u001b[43m      \u001b[49m\u001b[43mnum_outputs\u001b[49m\u001b[43m=\u001b[49m\u001b[43mnum_outputs\u001b[49m\u001b[43m,\u001b[49m\n\u001b[32m   1503\u001b[39m \u001b[43m      \u001b[49m\u001b[43minputs\u001b[49m\u001b[43m=\u001b[49m\u001b[43mtensor_inputs\u001b[49m\u001b[43m,\u001b[49m\n\u001b[32m   1504\u001b[39m \u001b[43m      \u001b[49m\u001b[43mattrs\u001b[49m\u001b[43m=\u001b[49m\u001b[43mattrs\u001b[49m\u001b[43m,\u001b[49m\n\u001b[32m   1505\u001b[39m \u001b[43m      \u001b[49m\u001b[43mctx\u001b[49m\u001b[43m=\u001b[49m\u001b[38;5;28;43mself\u001b[39;49m\u001b[43m,\u001b[49m\n\u001b[32m   1506\u001b[39m \u001b[43m  \u001b[49m\u001b[43m)\u001b[49m\n\u001b[32m   1507\u001b[39m \u001b[38;5;28;01melse\u001b[39;00m:\n\u001b[32m   1508\u001b[39m   outputs = execute.execute_with_cancellation(\n\u001b[32m   1509\u001b[39m       name.decode(\u001b[33m\"\u001b[39m\u001b[33mutf-8\u001b[39m\u001b[33m\"\u001b[39m),\n\u001b[32m   1510\u001b[39m       num_outputs=num_outputs,\n\u001b[32m   (...)\u001b[39m\u001b[32m   1514\u001b[39m       cancellation_manager=cancellation_context,\n\u001b[32m   1515\u001b[39m   )\n",
      "\u001b[36mFile \u001b[39m\u001b[32m~/miniconda3/envs/tf_env/lib/python3.12/site-packages/tensorflow/python/eager/execute.py:53\u001b[39m, in \u001b[36mquick_execute\u001b[39m\u001b[34m(op_name, num_outputs, inputs, attrs, ctx, name)\u001b[39m\n\u001b[32m     51\u001b[39m \u001b[38;5;28;01mtry\u001b[39;00m:\n\u001b[32m     52\u001b[39m   ctx.ensure_initialized()\n\u001b[32m---> \u001b[39m\u001b[32m53\u001b[39m   tensors = \u001b[43mpywrap_tfe\u001b[49m\u001b[43m.\u001b[49m\u001b[43mTFE_Py_Execute\u001b[49m\u001b[43m(\u001b[49m\u001b[43mctx\u001b[49m\u001b[43m.\u001b[49m\u001b[43m_handle\u001b[49m\u001b[43m,\u001b[49m\u001b[43m \u001b[49m\u001b[43mdevice_name\u001b[49m\u001b[43m,\u001b[49m\u001b[43m \u001b[49m\u001b[43mop_name\u001b[49m\u001b[43m,\u001b[49m\n\u001b[32m     54\u001b[39m \u001b[43m                                      \u001b[49m\u001b[43minputs\u001b[49m\u001b[43m,\u001b[49m\u001b[43m \u001b[49m\u001b[43mattrs\u001b[49m\u001b[43m,\u001b[49m\u001b[43m \u001b[49m\u001b[43mnum_outputs\u001b[49m\u001b[43m)\u001b[49m\n\u001b[32m     55\u001b[39m \u001b[38;5;28;01mexcept\u001b[39;00m core._NotOkStatusException \u001b[38;5;28;01mas\u001b[39;00m e:\n\u001b[32m     56\u001b[39m   \u001b[38;5;28;01mif\u001b[39;00m name \u001b[38;5;129;01mis\u001b[39;00m \u001b[38;5;129;01mnot\u001b[39;00m \u001b[38;5;28;01mNone\u001b[39;00m:\n",
      "\u001b[31mKeyboardInterrupt\u001b[39m: "
     ]
    }
   ],
   "source": [
    "model = build_custom_transformer_classifier(\n",
    "    num_particles=num_particles,\n",
    "    feature_dim=feature_dim,\n",
    "    d_model=16,\n",
    "    d_ff=16,\n",
    "    output_dim=16,\n",
    "    num_heads=4,\n",
    "    alpha=1.0,\n",
    "    return_attention=False\n",
    ")\n",
    "model.load_weights('1layerTransformerLayer.weights.h5')\n",
    "model.compile(optimizer='adam', loss='categorical_crossentropy', metrics=['accuracy'])\n",
    "history = model.fit(\n",
    "    x_train, y_train,\n",
    "    validation_data=(x_val, y_val),\n",
    "    epochs=250, \n",
    "    batch_size=1024\n",
    ")\n"
   ]
  },
  {
   "cell_type": "code",
   "execution_count": 71,
   "metadata": {},
   "outputs": [],
   "source": [
    "model = build_custom_transformer_classifier(\n",
    "    num_particles=num_particles,\n",
    "    feature_dim=feature_dim,\n",
    "    d_model=16,\n",
    "    d_ff=16,\n",
    "    output_dim=16,\n",
    "    num_heads=4,\n",
    "    alpha=1.0,\n",
    "    return_attention=True\n",
    ")"
   ]
  },
  {
   "cell_type": "code",
   "execution_count": 72,
   "metadata": {},
   "outputs": [],
   "source": [
    "model.load_weights('1layerTransformerLayer.weights.h5')"
   ]
  },
  {
   "cell_type": "code",
   "execution_count": 70,
   "metadata": {},
   "outputs": [],
   "source": [
    "model.save_weights('1layerTransformerLayer.weights.h5')"
   ]
  },
  {
   "cell_type": "code",
   "execution_count": 73,
   "metadata": {},
   "outputs": [],
   "source": [
    "output, attention = model(x_val[0].reshape(1,32,3))"
   ]
  },
  {
   "cell_type": "code",
   "execution_count": 74,
   "metadata": {},
   "outputs": [],
   "source": [
    "import matplotlib.pyplot as plt"
   ]
  },
  {
   "cell_type": "code",
   "execution_count": 75,
   "metadata": {},
   "outputs": [
    {
     "data": {
      "text/plain": [
       "<matplotlib.colorbar.Colorbar at 0x452feeed0>"
      ]
     },
     "execution_count": 75,
     "metadata": {},
     "output_type": "execute_result"
    },
    {
     "data": {
      "image/png": "[encoded data removed]",
      "text/plain": [
       "<Figure size 640x480 with 2 Axes>"
      ]
     },
     "metadata": {},
     "output_type": "display_data"
    }
   ],
   "source": [
    "plt.imshow(attention[0][3])\n",
    "plt.colorbar()"
   ]
  },
  {
   "cell_type": "code",
   "execution_count": 13,
   "metadata": {},
   "outputs": [
    {
     "name": "stderr",
     "output_type": "stream",
     "text": [
      "2025-03-27 14:34:26.794227: I tensorflow/core/grappler/devices.cc:75] Number of eligible GPUs (core count >= 8, compute capability >= 0.0): 0 (Note: TensorFlow was not compiled with CUDA or ROCm support)\n",
      "2025-03-27 14:34:26.794287: I tensorflow/core/grappler/clusters/single_machine.cc:361] Starting new session\n",
      "2025-03-27 14:34:26.794631: I tensorflow/core/common_runtime/pluggable_device/pluggable_device_factory.cc:305] Could not identify NUMA node of platform GPU ID 0, defaulting to 0. Your kernel may not have been built with NUMA support.\n",
      "2025-03-27 14:34:26.794643: I tensorflow/core/common_runtime/pluggable_device/pluggable_device_factory.cc:271] Created TensorFlow device (/job:localhost/replica:0/task:0/device:GPU:0 with 0 MB memory) -> physical PluggableDevice (device: 0, name: METAL, pci bus id: <undefined>)\n"
     ]
    },
    {
     "name": "stdout",
     "output_type": "stream",
     "text": [
      "Total FLOPs for a single inference:\n",
      "=========================Options=============================\n",
      "-max_depth                  10000\n",
      "-min_bytes                  0\n",
      "-min_peak_bytes             0\n",
      "-min_residual_bytes         0\n",
      "-min_output_bytes           0\n",
      "-min_micros                 0\n",
      "-min_accelerator_micros     0\n",
      "-min_cpu_micros             0\n",
      "-min_params                 0\n",
      "-min_float_ops              1\n",
      "-min_occurrence             0\n",
      "-step                       -1\n",
      "-order_by                   float_ops\n",
      "-account_type_regexes       .*\n",
      "-start_name_regexes         .*\n",
      "-trim_name_regexes          \n",
      "-show_name_regexes          .*\n",
      "-hide_name_regexes          \n",
      "-account_displayed_op_only  true\n",
      "-select                     float_ops\n",
      "-output                     stdout:\n",
      "\n",
      "==================Model Analysis Report======================\n",
      "\n",
      "Doc:\n",
      "op: The nodes are operation kernel type, such as MatMul, Conv2D. Graph nodes belonging to the same type are aggregated together.\n",
      "flops: Number of float operations. Note: Please read the implementation for the math behind it.\n",
      "\n",
      "Profile:\n",
      "node name | # float_ops\n",
      "BatchMatMulV2            166.91k float_ops (100.00%, 84.59%)\n",
      "Softmax                  20.50k float_ops (15.41%, 10.39%)\n",
      "RealDiv                  4.10k float_ops (5.02%, 2.08%)\n",
      "BiasAdd                  2.07k float_ops (2.95%, 1.05%)\n",
      "AddV2                    2.05k float_ops (1.90%, 1.04%)\n",
      "Mul                      1.02k float_ops (0.86%, 0.52%)\n",
      "MatMul                     672 float_ops (0.34%, 0.34%)\n",
      "\n",
      "======================End of Report==========================\n",
      " 197326\n",
      "Average inference time per event: 2447.276 nanoseconds\n"
     ]
    }
   ],
   "source": [
    "import tensorflow as tf\n",
    "from tensorflow.python.framework.convert_to_constants import convert_variables_to_constants_v2_as_graph\n",
    "import time\n",
    "import numpy as np\n",
    "\n",
    "def get_flops(model, input_shape):\n",
    "    input_tensor = tf.TensorSpec(input_shape, tf.float32)\n",
    "    concrete_func = tf.function(model).get_concrete_function(input_tensor)\n",
    "    \n",
    "    frozen_func, graph_def = convert_variables_to_constants_v2_as_graph(concrete_func)\n",
    "    \n",
    "    with tf.Graph().as_default() as graph:\n",
    "        tf.compat.v1.import_graph_def(graph_def, name='')\n",
    "        run_meta = tf.compat.v1.RunMetadata()\n",
    "        opts = tf.compat.v1.profiler.ProfileOptionBuilder.float_operation()\n",
    "        flops = tf.compat.v1.profiler.profile(graph=graph, run_meta=run_meta, cmd='op', options=opts)\n",
    "        return flops.total_float_ops\n",
    "\n",
    "\n",
    "input_shape = [1] + list(x_val.shape[1:])\n",
    "total_flops = get_flops(model, input_shape)\n",
    "print(\"Total FLOPs for a single inference:\", total_flops)\n",
    "\n",
    "# ---------------------------\n",
    "# Time Inference Per Event\n",
    "# ---------------------------\n",
    "import numpy as np\n",
    "import time\n",
    "\n",
    "_ = model(x_val[:10000])\n",
    "\n",
    "num_trials = 100\n",
    "inference_times = []\n",
    "for _ in range(num_trials):\n",
    "    start_time = time.perf_counter()\n",
    "    _ = model(x_val[:10000])\n",
    "    end_time = time.perf_counter()\n",
    "    inference_times.append(end_time - start_time)\n",
    "\n",
    "avg_inference_time_seconds = np.mean(np.array(inference_times) / 10000)\n",
    "avg_inference_time_nanoseconds = avg_inference_time_seconds * 1e9\n",
    "\n",
    "print(\"Average inference time per event:\", np.round(avg_inference_time_nanoseconds,3), \"nanoseconds\")\n",
    "\n"
   ]
  },
  {
   "cell_type": "code",
   "execution_count": 10,
   "metadata": {},
   "outputs": [],
   "source": [
    "x_val = np.load(\"/Users/anrunw/Downloads/l1-jet-id/data/jetid/processed/x_val_robust_32const_ptetaphi.npy\")\n",
    "y_val = np.load(\"/Users/anrunw/Downloads/l1-jet-id/data/jetid/processed/y_val_robust_32const_ptetaphi.npy\")"
   ]
  },
  {
   "cell_type": "code",
   "execution_count": 11,
   "metadata": {},
   "outputs": [
    {
     "ename": "ValueError",
     "evalue": "setting an array element with a sequence. The requested array has an inhomogeneous shape after 2 dimensions. The detected shape was (2, 260000) + inhomogeneous part.",
     "output_type": "error",
     "traceback": [
      "\u001b[31m---------------------------------------------------------------------------\u001b[39m",
      "\u001b[31mValueError\u001b[39m                                Traceback (most recent call last)",
      "\u001b[36mCell\u001b[39m\u001b[36m \u001b[39m\u001b[32mIn[11]\u001b[39m\u001b[32m, line 1\u001b[39m\n\u001b[32m----> \u001b[39m\u001b[32m1\u001b[39m xout = \u001b[43mnp\u001b[49m\u001b[43m.\u001b[49m\u001b[43margmax\u001b[49m\u001b[43m(\u001b[49m\u001b[43mmodel\u001b[49m\u001b[43m(\u001b[49m\u001b[43mx_val\u001b[49m\u001b[43m,\u001b[49m\u001b[43m \u001b[49m\u001b[43mtraining\u001b[49m\u001b[43m=\u001b[49m\u001b[38;5;28;43;01mFalse\u001b[39;49;00m\u001b[43m)\u001b[49m\u001b[43m,\u001b[49m\u001b[32;43m1\u001b[39;49m\u001b[43m)\u001b[49m\n\u001b[32m      2\u001b[39m yout = np.argmax(y_val,\u001b[32m1\u001b[39m)\n",
      "\u001b[36mFile \u001b[39m\u001b[32m~/miniconda3/envs/tf_env/lib/python3.12/site-packages/numpy/core/fromnumeric.py:1229\u001b[39m, in \u001b[36margmax\u001b[39m\u001b[34m(a, axis, out, keepdims)\u001b[39m\n\u001b[32m   1142\u001b[39m \u001b[38;5;250m\u001b[39m\u001b[33;03m\"\"\"\u001b[39;00m\n\u001b[32m   1143\u001b[39m \u001b[33;03mReturns the indices of the maximum values along an axis.\u001b[39;00m\n\u001b[32m   1144\u001b[39m \n\u001b[32m   (...)\u001b[39m\u001b[32m   1226\u001b[39m \u001b[33;03m(2, 1, 4)\u001b[39;00m\n\u001b[32m   1227\u001b[39m \u001b[33;03m\"\"\"\u001b[39;00m\n\u001b[32m   1228\u001b[39m kwds = {\u001b[33m'\u001b[39m\u001b[33mkeepdims\u001b[39m\u001b[33m'\u001b[39m: keepdims} \u001b[38;5;28;01mif\u001b[39;00m keepdims \u001b[38;5;129;01mis\u001b[39;00m \u001b[38;5;129;01mnot\u001b[39;00m np._NoValue \u001b[38;5;28;01melse\u001b[39;00m {}\n\u001b[32m-> \u001b[39m\u001b[32m1229\u001b[39m \u001b[38;5;28;01mreturn\u001b[39;00m \u001b[43m_wrapfunc\u001b[49m\u001b[43m(\u001b[49m\u001b[43ma\u001b[49m\u001b[43m,\u001b[49m\u001b[43m \u001b[49m\u001b[33;43m'\u001b[39;49m\u001b[33;43margmax\u001b[39;49m\u001b[33;43m'\u001b[39;49m\u001b[43m,\u001b[49m\u001b[43m \u001b[49m\u001b[43maxis\u001b[49m\u001b[43m=\u001b[49m\u001b[43maxis\u001b[49m\u001b[43m,\u001b[49m\u001b[43m \u001b[49m\u001b[43mout\u001b[49m\u001b[43m=\u001b[49m\u001b[43mout\u001b[49m\u001b[43m,\u001b[49m\u001b[43m \u001b[49m\u001b[43m*\u001b[49m\u001b[43m*\u001b[49m\u001b[43mkwds\u001b[49m\u001b[43m)\u001b[49m\n",
      "\u001b[36mFile \u001b[39m\u001b[32m~/miniconda3/envs/tf_env/lib/python3.12/site-packages/numpy/core/fromnumeric.py:56\u001b[39m, in \u001b[36m_wrapfunc\u001b[39m\u001b[34m(obj, method, *args, **kwds)\u001b[39m\n\u001b[32m     54\u001b[39m bound = \u001b[38;5;28mgetattr\u001b[39m(obj, method, \u001b[38;5;28;01mNone\u001b[39;00m)\n\u001b[32m     55\u001b[39m \u001b[38;5;28;01mif\u001b[39;00m bound \u001b[38;5;129;01mis\u001b[39;00m \u001b[38;5;28;01mNone\u001b[39;00m:\n\u001b[32m---> \u001b[39m\u001b[32m56\u001b[39m     \u001b[38;5;28;01mreturn\u001b[39;00m \u001b[43m_wrapit\u001b[49m\u001b[43m(\u001b[49m\u001b[43mobj\u001b[49m\u001b[43m,\u001b[49m\u001b[43m \u001b[49m\u001b[43mmethod\u001b[49m\u001b[43m,\u001b[49m\u001b[43m \u001b[49m\u001b[43m*\u001b[49m\u001b[43margs\u001b[49m\u001b[43m,\u001b[49m\u001b[43m \u001b[49m\u001b[43m*\u001b[49m\u001b[43m*\u001b[49m\u001b[43mkwds\u001b[49m\u001b[43m)\u001b[49m\n\u001b[32m     58\u001b[39m \u001b[38;5;28;01mtry\u001b[39;00m:\n\u001b[32m     59\u001b[39m     \u001b[38;5;28;01mreturn\u001b[39;00m bound(*args, **kwds)\n",
      "\u001b[36mFile \u001b[39m\u001b[32m~/miniconda3/envs/tf_env/lib/python3.12/site-packages/numpy/core/fromnumeric.py:45\u001b[39m, in \u001b[36m_wrapit\u001b[39m\u001b[34m(obj, method, *args, **kwds)\u001b[39m\n\u001b[32m     43\u001b[39m \u001b[38;5;28;01mexcept\u001b[39;00m \u001b[38;5;167;01mAttributeError\u001b[39;00m:\n\u001b[32m     44\u001b[39m     wrap = \u001b[38;5;28;01mNone\u001b[39;00m\n\u001b[32m---> \u001b[39m\u001b[32m45\u001b[39m result = \u001b[38;5;28mgetattr\u001b[39m(\u001b[43masarray\u001b[49m\u001b[43m(\u001b[49m\u001b[43mobj\u001b[49m\u001b[43m)\u001b[49m, method)(*args, **kwds)\n\u001b[32m     46\u001b[39m \u001b[38;5;28;01mif\u001b[39;00m wrap:\n\u001b[32m     47\u001b[39m     \u001b[38;5;28;01mif\u001b[39;00m \u001b[38;5;129;01mnot\u001b[39;00m \u001b[38;5;28misinstance\u001b[39m(result, mu.ndarray):\n",
      "\u001b[31mValueError\u001b[39m: setting an array element with a sequence. The requested array has an inhomogeneous shape after 2 dimensions. The detected shape was (2, 260000) + inhomogeneous part."
     ]
    }
   ],
   "source": [
    "xout = np.argmax(model(x_val, training=False),1)\n",
    "yout = np.argmax(y_val,1)"
   ]
  },
  {
   "cell_type": "code",
   "execution_count": 34,
   "metadata": {},
   "outputs": [
    {
     "data": {
      "text/plain": [
       "0.7698961538461538"
      ]
     },
     "execution_count": 34,
     "metadata": {},
     "output_type": "execute_result"
    }
   ],
   "source": [
    "import sklearn\n",
    "sklearn.metrics.accuracy_score(xout,yout)"
   ]
  },
  {
   "cell_type": "code",
   "execution_count": null,
   "metadata": {},
   "outputs": [],
   "source": []
  },
  {
   "cell_type": "code",
   "execution_count": 35,
   "metadata": {},
   "outputs": [
    {
     "ename": "NameError",
     "evalue": "name 'history' is not defined",
     "output_type": "error",
     "traceback": [
      "\u001b[31m---------------------------------------------------------------------------\u001b[39m",
      "\u001b[31mNameError\u001b[39m                                 Traceback (most recent call last)",
      "\u001b[36mCell\u001b[39m\u001b[36m \u001b[39m\u001b[32mIn[35]\u001b[39m\u001b[32m, line 8\u001b[39m\n\u001b[32m      3\u001b[39m \u001b[38;5;66;03m# Suppose you have already trained your model:\u001b[39;00m\n\u001b[32m      4\u001b[39m \u001b[38;5;66;03m# history = model.fit(...)\u001b[39;00m\n\u001b[32m      5\u001b[39m \n\u001b[32m      6\u001b[39m \u001b[38;5;66;03m# Plotting the training & validation loss values\u001b[39;00m\n\u001b[32m      7\u001b[39m plt.figure(figsize=(\u001b[32m8\u001b[39m, \u001b[32m6\u001b[39m))\n\u001b[32m----> \u001b[39m\u001b[32m8\u001b[39m plt.plot(\u001b[43mhistory\u001b[49m.history[\u001b[33m'\u001b[39m\u001b[33mloss\u001b[39m\u001b[33m'\u001b[39m], label=\u001b[33m'\u001b[39m\u001b[33mTraining Loss\u001b[39m\u001b[33m'\u001b[39m)\n\u001b[32m      9\u001b[39m \u001b[38;5;28;01mif\u001b[39;00m \u001b[33m'\u001b[39m\u001b[33mval_loss\u001b[39m\u001b[33m'\u001b[39m \u001b[38;5;129;01min\u001b[39;00m history.history:\n\u001b[32m     10\u001b[39m     plt.plot(history.history[\u001b[33m'\u001b[39m\u001b[33mval_loss\u001b[39m\u001b[33m'\u001b[39m], label=\u001b[33m'\u001b[39m\u001b[33mValidation Loss\u001b[39m\u001b[33m'\u001b[39m)\n",
      "\u001b[31mNameError\u001b[39m: name 'history' is not defined"
     ]
    },
    {
     "data": {
      "text/plain": [
       "<Figure size 800x600 with 0 Axes>"
      ]
     },
     "metadata": {},
     "output_type": "display_data"
    }
   ],
   "source": [
    "import matplotlib.pyplot as plt\n",
    "\n",
    "# Suppose you have already trained your model:\n",
    "# history = model.fit(...)\n",
    "\n",
    "# Plotting the training & validation loss values\n",
    "plt.figure(figsize=(8, 6))\n",
    "plt.plot(history.history['loss'], label='Training Loss')\n",
    "if 'val_loss' in history.history:\n",
    "    plt.plot(history.history['val_loss'], label='Validation Loss')\n",
    "plt.title('Model Loss')\n",
    "plt.xlabel('Epoch')\n",
    "plt.ylabel('Loss')\n",
    "plt.legend(loc='upper right')\n",
    "plt.show()\n",
    "\n",
    "# If you also have accuracy or other metrics, you can plot them similarly:\n",
    "if 'accuracy' in history.history:\n",
    "    plt.figure(figsize=(8, 6))\n",
    "    plt.plot(history.history['accuracy'], label='Training Accuracy')\n",
    "    if 'val_accuracy' in history.history:\n",
    "        plt.plot(history.history['val_accuracy'], label='Validation Accuracy')\n",
    "    plt.title('Model Accuracy')\n",
    "    plt.xlabel('Epoch')\n",
    "    plt.ylabel('Accuracy')\n",
    "    plt.legend(loc='lower right')\n",
    "    plt.show()\n"
   ]
  },
  {
   "cell_type": "code",
   "execution_count": 36,
   "metadata": {},
   "outputs": [
    {
     "name": "stdout",
     "output_type": "stream",
     "text": [
      "1/FPR at TPR=80% for each class:\n",
      "g: 1/FPR = 7.950214460784314\n",
      "q: 1/FPR = 7.315039798910767\n",
      "W: 1/FPR = 28.015776699029125\n",
      "Z: 1/FPR = 32.807139472437214\n",
      "t: 1/FPR = 20.53718189919794\n",
      "Average 1/FPR across classes: 19.32507046607187\n",
      "\n",
      "Accuracy at the threshold corresponding to TPR=80% for each class:\n",
      "g: accuracy = 0.8593\n",
      "q: accuracy = 0.8510\n",
      "W: accuracy = 0.9313\n",
      "Z: accuracy = 0.9354\n",
      "t: accuracy = 0.9207\n",
      "Average accuracy across classes: 0.8995\n"
     ]
    },
    {
     "data": {
      "image/png": "[encoded data removed]",
      "text/plain": [
       "<Figure size 1000x800 with 1 Axes>"
      ]
     },
     "metadata": {},
     "output_type": "display_data"
    }
   ],
   "source": [
    "import numpy as np\n",
    "import matplotlib.pyplot as plt\n",
    "from sklearn.metrics import roc_curve, auc\n",
    "import tensorflow as tf\n",
    "\n",
    "# Define your class labels.\n",
    "class_labels = ['g', 'q', 'W', 'Z', 't']\n",
    "\n",
    "# Load your validation data.\n",
    "# (Assuming x_val and y_val are already loaded in your environment)\n",
    "# Get the model predictions as probabilities.\n",
    "# If your model outputs logits, you may need to apply softmax first.\n",
    "y_pred = model(x_val, training=False)\n",
    "\n",
    "# Convert predictions and labels from TensorFlow tensors to NumPy arrays if needed.\n",
    "if hasattr(y_pred, \"numpy\"):\n",
    "    y_pred = y_pred.numpy()\n",
    "if hasattr(y_val, \"numpy\"):\n",
    "    y_val = y_val.numpy()\n",
    "\n",
    "# Initialize dictionaries to store false positive rates, true positive rates, AUC, thresholds,\n",
    "# interpolated FPR at target TPR, and accuracy at that threshold.\n",
    "fpr = {}\n",
    "tpr = {}\n",
    "roc_auc = {}\n",
    "thresholds_dict = {}\n",
    "fpr_at_target = {}\n",
    "accuracy_at_target = {}\n",
    "\n",
    "# Target true positive rate.\n",
    "target_tpr = 0.8\n",
    "\n",
    "# Compute ROC curve, AUC, and interpolate FPR and threshold at target TPR for each class.\n",
    "for i, label in enumerate(class_labels):\n",
    "    # Compute ROC curve: returns fpr, tpr, and thresholds.\n",
    "    fpr[i], tpr[i], thresholds = roc_curve(y_val[:, i], y_pred[:, i])\n",
    "    thresholds_dict[i] = thresholds  # save thresholds for later use\n",
    "    roc_auc[i] = auc(fpr[i], tpr[i])\n",
    "    \n",
    "    # Check if the target TPR is reached.\n",
    "    if target_tpr <= tpr[i][-1]:\n",
    "        # Interpolate FPR at target TPR.\n",
    "        fpr_at_target[label] = np.interp(target_tpr, tpr[i], fpr[i])\n",
    "        # Interpolate threshold at target TPR.\n",
    "        threshold_at_target = np.interp(target_tpr, tpr[i], thresholds)\n",
    "        # Compute binary predictions for the current class using the interpolated threshold.\n",
    "        preds_binary = (y_pred[:, i] >= threshold_at_target).astype(int)\n",
    "        # Compute accuracy for the current class.\n",
    "        accuracy = np.mean(preds_binary == y_val[:, i])\n",
    "        accuracy_at_target[label] = accuracy\n",
    "    else:\n",
    "        fpr_at_target[label] = None  # If target TPR is not reached.\n",
    "        accuracy_at_target[label] = None\n",
    "\n",
    "# Display the 1/FPR values when TPR=80% for each class.\n",
    "print(\"1/FPR at TPR=80% for each class:\")\n",
    "one_over_fpr = []\n",
    "for label in class_labels:\n",
    "    if fpr_at_target[label] is not None and fpr_at_target[label] != 0:\n",
    "        inv_val = 1.0 / fpr_at_target[label]\n",
    "        one_over_fpr.append(inv_val)\n",
    "        print(f\"{label}: 1/FPR = {inv_val}\")\n",
    "    else:\n",
    "        print(f\"{label}: undefined (FPR is None or zero)\")\n",
    "\n",
    "# Compute and print the average of 1/FPR across classes.\n",
    "if one_over_fpr:\n",
    "    avg_one_over_fpr = np.mean(one_over_fpr)\n",
    "    print(f\"Average 1/FPR across classes: {avg_one_over_fpr}\")\n",
    "else:\n",
    "    print(\"No valid 1/FPR values to compute an average.\")\n",
    "\n",
    "# Print the accuracy at the FPR corresponding to TPR=80% for each class.\n",
    "print(\"\\nAccuracy at the threshold corresponding to TPR=80% for each class:\")\n",
    "accuracies = []\n",
    "for label in class_labels:\n",
    "    if accuracy_at_target[label] is not None:\n",
    "        accuracies.append(accuracy_at_target[label])\n",
    "        print(f\"{label}: accuracy = {accuracy_at_target[label]:.4f}\")\n",
    "    else:\n",
    "        print(f\"{label}: accuracy undefined (target TPR not reached)\")\n",
    "if accuracies:\n",
    "    avg_accuracy = np.mean(accuracies)\n",
    "    print(f\"Average accuracy across classes: {avg_accuracy:.4f}\")\n",
    "else:\n",
    "    print(\"No valid accuracy values to compute an average.\")\n",
    "\n",
    "# Plot the ROC curves and mark the point corresponding to TPR=0.8.\n",
    "plt.figure(figsize=(10, 8))\n",
    "for i, label in enumerate(class_labels):\n",
    "    plt.plot(fpr[i], tpr[i], label=f'ROC for class {label} (AUC = {roc_auc[i]:.2f})')\n",
    "    if fpr_at_target[label] is not None:\n",
    "        # Mark the point on the ROC curve where TPR = 0.8.\n",
    "        plt.plot(fpr_at_target[label], target_tpr, 'o', label=f'{label} @ TPR=0.8')\n",
    "\n",
    "# Plot the random chance line.\n",
    "plt.plot([0, 1], [0, 1], 'k--', lw=2)\n",
    "plt.xlim([0.0, 1.0])\n",
    "plt.ylim([0.0, 1.05])\n",
    "plt.xlabel('False Positive Rate')\n",
    "plt.ylabel('True Positive Rate')\n",
    "plt.title('ROC Curves for Argmax Transformer - Average 1/FPR = ' + str(avg_one_over_fpr))\n",
    "plt.legend(loc=\"lower right\")\n",
    "plt.show()\n",
    "\n"
   ]
  },
  {
   "cell_type": "code",
   "execution_count": 380,
   "metadata": {},
   "outputs": [],
   "source": [
    "def superpositionMLP(superposition, weight, bias = np.zeros(16)):\n",
    "\n",
    "    output = np.einsum('bij,ik->bkj', superposition, weight)\n",
    "\n",
    "    output[:, :,3] += bias\n",
    "\n",
    "    return output\n",
    "\n",
    "def superPositionRelu(superposition):\n",
    "    # Compute the sum of activations along each neuron's dimension.\n",
    "    total_activations = np.sum(superposition, axis=2)\n",
    "    \n",
    "    # Zero out rows (neurons) with non-positive total activations.\n",
    "    superposition[total_activations < 0] = 0\n",
    "    return superposition"
   ]
  },
  {
   "cell_type": "code",
   "execution_count": 381,
   "metadata": {},
   "outputs": [],
   "source": [
    "def superpositionMLP2D(superposition, weight, bias):\n",
    "    \n",
    "    output = np.einsum('ij,ik->kj', superposition, weight)\n",
    "    \n",
    "    output[:, 3] += bias\n",
    "    return output\n",
    "\n",
    "def superPositionRelu2D(superposition):\n",
    "    # Compute the sum of activations along each neuron's dimension.\n",
    "    total_activations = np.sum(superposition, axis=1)\n",
    "    \n",
    "    # Zero out rows (neurons) with non-positive total activations.\n",
    "    superposition[total_activations < 0] = 0\n",
    "    return superposition"
   ]
  },
  {
   "cell_type": "code",
   "execution_count": 449,
   "metadata": {},
   "outputs": [],
   "source": [
    "model.compile()"
   ]
  },
  {
   "cell_type": "code",
   "execution_count": 382,
   "metadata": {},
   "outputs": [],
   "source": [
    "jet = 0"
   ]
  },
  {
   "cell_type": "code",
   "execution_count": 408,
   "metadata": {},
   "outputs": [],
   "source": [
    "superposition = np.zeros((32, 3, 4))\n",
    "num = 0\n",
    "for x in x_val[jet]:\n",
    "    index = 0\n",
    "    for feature in range(3):\n",
    "\n",
    "        superposition[num, index, index] = x[index]\n",
    "\n",
    "        index = index + 1\n",
    "    num = num + 1"
   ]
  },
  {
   "cell_type": "code",
   "execution_count": 425,
   "metadata": {},
   "outputs": [],
   "source": [
    "superposition = np.zeros((32, 3, 32*3+1))\n",
    "num = 0\n",
    "count = 0 \n",
    "for x in x_val[jet]:\n",
    "    index = 0\n",
    "    for feature in range(3):\n",
    "\n",
    "        superposition[num, index, count] = x[index]\n",
    "\n",
    "        index = index + 1\n",
    "        count = count + 1\n",
    "    num = num + 1"
   ]
  },
  {
   "cell_type": "code",
   "execution_count": 491,
   "metadata": {},
   "outputs": [],
   "source": [
    "def superpositionRec(x_val,model, jet):\n",
    "    superposition = np.zeros((32, 3, 4))\n",
    "    num = 0\n",
    "    for x in x_val[jet]:\n",
    "        index = 0\n",
    "        for feature in range(3):\n",
    "\n",
    "            superposition[num, index, index] = x[index]\n",
    "\n",
    "            index = index + 1\n",
    "        num = num + 1\n",
    "    superposition=superpositionMLP(superposition, model.variables[0].numpy(), model.variables[1].numpy())\n",
    "    superposition = superPositionRelu(superposition)\n",
    "    superposition=superpositionMLP(superposition, model.variables[4].numpy(), np.zeros(16))\n",
    "    output, attention = model(np.reshape(x_val[jet],[1,32,3]))\n",
    "    superposition = superposition.reshape(4,32,4,4)\n",
    "    attn_output = np.einsum('ijk, ikmn-> ikmn', attention.numpy()[0], superposition)\n",
    "    superposition = np.concatenate(superposition, axis=1)\n",
    "    attn_output = np.concatenate(attn_output, axis=1)\n",
    "    tanhOut = np.tanh(superposition + attn_output)\n",
    "\n",
    "\n",
    "    superposition = superpositionMLP(tanhOut, model.variables[7].numpy(), model.variables[8].numpy())\n",
    "    superposition = superPositionRelu(tanhOut)\n",
    "\n",
    "    superposition = superpositionMLP(tanhOut, model.variables[9].numpy(), model.variables[10].numpy())\n",
    "    superposition = np.tanh(superposition + tanhOut)\n",
    "    superposition = tf.reduce_max(superposition, axis=0).numpy()\n",
    "    superposition = superpositionMLP2D(superposition, model.variables[11].numpy(), model.variables[12].numpy())\n",
    "    superposition = superPositionRelu2D(superposition)\n",
    "    superposition = superpositionMLP2D(superposition, model.variables[13].numpy(), model.variables[14].numpy())\n",
    "    return superposition, output"
   ]
  },
  {
   "cell_type": "code",
   "execution_count": 492,
   "metadata": {},
   "outputs": [],
   "source": [
    "from tqdm import tqdm"
   ]
  },
  {
   "cell_type": "code",
   "execution_count": 493,
   "metadata": {},
   "outputs": [
    {
     "data": {
      "text/plain": [
       "(260000, 32, 3)"
      ]
     },
     "execution_count": 493,
     "metadata": {},
     "output_type": "execute_result"
    }
   ],
   "source": [
    "x_val.shape"
   ]
  },
  {
   "cell_type": "code",
   "execution_count": 490,
   "metadata": {},
   "outputs": [
    {
     "name": "stderr",
     "output_type": "stream",
     "text": [
      "  0%|          | 0/100 [00:00<?, ?it/s]\n"
     ]
    },
    {
     "ename": "ValueError",
     "evalue": "cannot reshape array of size 2048 into shape (4,32,8,4)",
     "output_type": "error",
     "traceback": [
      "\u001b[31m---------------------------------------------------------------------------\u001b[39m",
      "\u001b[31mValueError\u001b[39m                                Traceback (most recent call last)",
      "\u001b[36mCell\u001b[39m\u001b[36m \u001b[39m\u001b[32mIn[490]\u001b[39m\u001b[32m, line 7\u001b[39m\n\u001b[32m      5\u001b[39m superpositions = []\n\u001b[32m      6\u001b[39m \u001b[38;5;28;01mfor\u001b[39;00m jet \u001b[38;5;129;01min\u001b[39;00m tqdm(\u001b[38;5;28mrange\u001b[39m(\u001b[32m100\u001b[39m)):\n\u001b[32m----> \u001b[39m\u001b[32m7\u001b[39m     logit, output = \u001b[43msuperpositionRec\u001b[49m\u001b[43m(\u001b[49m\u001b[43mx_val\u001b[49m\u001b[43m,\u001b[49m\u001b[43m \u001b[49m\u001b[43mmodel\u001b[49m\u001b[43m,\u001b[49m\u001b[43m \u001b[49m\u001b[43mjet\u001b[49m\u001b[43m)\u001b[49m\n\u001b[32m      8\u001b[39m     logits.append(logit)\n\u001b[32m      9\u001b[39m     outputs.append(output.numpy())\n",
      "\u001b[36mCell\u001b[39m\u001b[36m \u001b[39m\u001b[32mIn[487]\u001b[39m\u001b[32m, line 16\u001b[39m, in \u001b[36msuperpositionRec\u001b[39m\u001b[34m(x_val, model, jet)\u001b[39m\n\u001b[32m     14\u001b[39m superposition=superpositionMLP(superposition, model.variables[\u001b[32m4\u001b[39m].numpy(), np.zeros(\u001b[32m16\u001b[39m))\n\u001b[32m     15\u001b[39m output, attention = model(np.reshape(x_val[jet],[\u001b[32m1\u001b[39m,\u001b[32m32\u001b[39m,\u001b[32m3\u001b[39m]))\n\u001b[32m---> \u001b[39m\u001b[32m16\u001b[39m superposition = \u001b[43msuperposition\u001b[49m\u001b[43m.\u001b[49m\u001b[43mreshape\u001b[49m\u001b[43m(\u001b[49m\u001b[32;43m4\u001b[39;49m\u001b[43m,\u001b[49m\u001b[32;43m32\u001b[39;49m\u001b[43m,\u001b[49m\u001b[32;43m8\u001b[39;49m\u001b[43m,\u001b[49m\u001b[32;43m4\u001b[39;49m\u001b[43m)\u001b[49m\n\u001b[32m     17\u001b[39m attn_output = np.einsum(\u001b[33m'\u001b[39m\u001b[33mijk, ikmn-> ikmn\u001b[39m\u001b[33m'\u001b[39m, attention.numpy()[\u001b[32m0\u001b[39m], superposition)\n\u001b[32m     18\u001b[39m superposition = np.concatenate(superposition, axis=\u001b[32m1\u001b[39m)\n",
      "\u001b[31mValueError\u001b[39m: cannot reshape array of size 2048 into shape (4,32,8,4)"
     ]
    }
   ],
   "source": [
    "accuracyTrue = []\n",
    "accuracyModel = []\n",
    "logits = []\n",
    "outputs = []\n",
    "superpositions = []\n",
    "for jet in tqdm(range(100)):\n",
    "    logit, output = superpositionRec(x_val, model, jet)\n",
    "    logits.append(logit)\n",
    "    outputs.append(output.numpy())\n",
    "    "
   ]
  },
  {
   "cell_type": "code",
   "execution_count": 485,
   "metadata": {},
   "outputs": [
    {
     "data": {
      "text/plain": [
       "array([4, 4, 1, 1, 1, 1, 4, 1, 4, 1, 1, 4, 1, 4, 4, 4, 4, 4, 1, 4, 4, 1,\n",
       "       4, 1, 4, 1, 1, 1, 1, 4, 1, 4, 1, 1, 1, 4, 1, 4, 4, 1, 4, 1, 1, 1,\n",
       "       4, 4, 4, 4, 4, 4, 4, 4, 4, 4, 1, 1, 4, 1, 4, 1, 4, 4, 4, 4, 4, 1,\n",
       "       1, 1, 4, 1, 1, 1, 4, 4, 4, 1, 4, 4, 4, 1, 4, 4, 4, 4, 4, 1, 1, 1,\n",
       "       1, 4, 4, 4, 4, 1, 4, 1, 1, 1, 1, 1])"
      ]
     },
     "execution_count": 485,
     "metadata": {},
     "output_type": "execute_result"
    }
   ],
   "source": [
    "np.argmax(np.sum(logits, axis=2), axis=1)"
   ]
  },
  {
   "cell_type": "code",
   "execution_count": 486,
   "metadata": {},
   "outputs": [
    {
     "data": {
      "text/plain": [
       "array([4, 0, 4, 2, 3, 4, 1, 3, 1, 3, 1, 0, 3, 0, 2, 0, 1, 1, 4, 1, 3, 2,\n",
       "       0, 0, 3, 3, 4, 2, 2, 3, 3, 2, 4, 4, 3, 2, 0, 1, 1, 2, 2, 4, 0, 1,\n",
       "       2, 4, 3, 0, 2, 1, 3, 4, 1, 2, 4, 1, 2, 0, 3, 4, 4, 3, 1, 1, 0, 0,\n",
       "       4, 2, 1, 0, 4, 4, 2, 0, 2, 3, 2, 4, 2, 1, 0, 0, 0, 0, 2, 2, 2, 4,\n",
       "       0, 0, 0, 1, 4, 3, 2, 4, 3, 2, 4, 4])"
      ]
     },
     "execution_count": 486,
     "metadata": {},
     "output_type": "execute_result"
    }
   ],
   "source": [
    "np.argmax(outputs, axis=2).squeeze()"
   ]
  },
  {
   "cell_type": "code",
   "execution_count": 404,
   "metadata": {},
   "outputs": [
    {
     "data": {
      "text/plain": [
       "array([[4]])"
      ]
     },
     "execution_count": 404,
     "metadata": {},
     "output_type": "execute_result"
    }
   ],
   "source": [
    "np.argmax(outputs,axis=2)"
   ]
  },
  {
   "cell_type": "code",
   "execution_count": 90,
   "metadata": {},
   "outputs": [],
   "source": [
    "import numpy as np\n",
    "\n",
    "def softmax(x):\n",
    "    # Subtract max for numerical stability\n",
    "    exps = np.exp(x - np.max(x))\n",
    "    return exps / np.sum(exps)\n",
    "\n"
   ]
  },
  {
   "cell_type": "code",
   "execution_count": 146,
   "metadata": {},
   "outputs": [
    {
     "data": {
      "text/plain": [
       "4"
      ]
     },
     "execution_count": 146,
     "metadata": {},
     "output_type": "execute_result"
    }
   ],
   "source": [
    "np.argmax(softmax(logits))"
   ]
  },
  {
   "cell_type": "code",
   "execution_count": 147,
   "metadata": {},
   "outputs": [
    {
     "data": {
      "text/plain": [
       "array([4.35783482e-03, 3.44727543e-01, 4.26051585e-08, 1.16141270e-09,\n",
       "       6.50914578e-01])"
      ]
     },
     "execution_count": 147,
     "metadata": {},
     "output_type": "execute_result"
    }
   ],
   "source": [
    "softmax(logits)"
   ]
  },
  {
   "cell_type": "code",
   "execution_count": 149,
   "metadata": {},
   "outputs": [
    {
     "data": {
      "text/plain": [
       "4"
      ]
     },
     "execution_count": 149,
     "metadata": {},
     "output_type": "execute_result"
    }
   ],
   "source": [
    "np.argmax(output.numpy())"
   ]
  },
  {
   "cell_type": "code",
   "execution_count": 150,
   "metadata": {},
   "outputs": [
    {
     "data": {
      "text/plain": [
       "array([4.35783482e-03, 3.44727543e-01, 4.26051585e-08, 1.16141270e-09,\n",
       "       6.50914578e-01])"
      ]
     },
     "execution_count": 150,
     "metadata": {},
     "output_type": "execute_result"
    }
   ],
   "source": [
    "softmax(logits)"
   ]
  },
  {
   "cell_type": "code",
   "execution_count": 151,
   "metadata": {},
   "outputs": [
    {
     "data": {
      "text/plain": [
       "array([[1.4666139e-01, 8.2516171e-02, 7.2101236e-04, 6.7074987e-04,\n",
       "        7.6943064e-01]], dtype=float32)"
      ]
     },
     "execution_count": 151,
     "metadata": {},
     "output_type": "execute_result"
    }
   ],
   "source": [
    "output.numpy()"
   ]
  },
  {
   "cell_type": "code",
   "execution_count": 506,
   "metadata": {},
   "outputs": [
    {
     "name": "stderr",
     "output_type": "stream",
     "text": [
      "100%|██████████| 100/100 [00:01<00:00, 75.26it/s]\n"
     ]
    }
   ],
   "source": [
    "accuracyTrue = []\n",
    "accuracyModel = []\n",
    "logits_all = []\n",
    "outputs_all = []\n",
    "superpositions_all = []\n",
    "\n",
    "for jet in tqdm(range(100)):\n",
    "    logit, output = superpositionRec(x_val, model, jet)\n",
    "    logits_all.append(logit)\n",
    "    outputs_all.append(output.numpy())"
   ]
  },
  {
   "cell_type": "code",
   "execution_count": 509,
   "metadata": {},
   "outputs": [
    {
     "data": {
      "text/plain": [
       "array([ 0.11838642,  0.15610892, -0.04378782, -0.14612642, -0.0244713 ],\n",
       "      dtype=float32)"
      ]
     },
     "execution_count": 509,
     "metadata": {},
     "output_type": "execute_result"
    }
   ],
   "source": [
    "logits_all[0]"
   ]
  },
  {
   "cell_type": "code",
   "execution_count": 507,
   "metadata": {},
   "outputs": [
    {
     "ename": "AxisError",
     "evalue": "axis 2 is out of bounds for array of dimension 2",
     "output_type": "error",
     "traceback": [
      "\u001b[31m---------------------------------------------------------------------------\u001b[39m",
      "\u001b[31mAxisError\u001b[39m                                 Traceback (most recent call last)",
      "\u001b[36mCell\u001b[39m\u001b[36m \u001b[39m\u001b[32mIn[507]\u001b[39m\u001b[32m, line 1\u001b[39m\n\u001b[32m----> \u001b[39m\u001b[32m1\u001b[39m np.argmax(\u001b[43mnp\u001b[49m\u001b[43m.\u001b[49m\u001b[43msum\u001b[49m\u001b[43m(\u001b[49m\u001b[43mlogits_all\u001b[49m\u001b[43m,\u001b[49m\u001b[43maxis\u001b[49m\u001b[43m=\u001b[49m\u001b[32;43m2\u001b[39;49m\u001b[43m)\u001b[49m, axis=\u001b[32m1\u001b[39m)\n",
      "\u001b[36mFile \u001b[39m\u001b[32m~/miniconda3/envs/tf_env/lib/python3.12/site-packages/numpy/core/fromnumeric.py:2313\u001b[39m, in \u001b[36msum\u001b[39m\u001b[34m(a, axis, dtype, out, keepdims, initial, where)\u001b[39m\n\u001b[32m   2310\u001b[39m         \u001b[38;5;28;01mreturn\u001b[39;00m out\n\u001b[32m   2311\u001b[39m     \u001b[38;5;28;01mreturn\u001b[39;00m res\n\u001b[32m-> \u001b[39m\u001b[32m2313\u001b[39m \u001b[38;5;28;01mreturn\u001b[39;00m \u001b[43m_wrapreduction\u001b[49m\u001b[43m(\u001b[49m\u001b[43ma\u001b[49m\u001b[43m,\u001b[49m\u001b[43m \u001b[49m\u001b[43mnp\u001b[49m\u001b[43m.\u001b[49m\u001b[43madd\u001b[49m\u001b[43m,\u001b[49m\u001b[43m \u001b[49m\u001b[33;43m'\u001b[39;49m\u001b[33;43msum\u001b[39;49m\u001b[33;43m'\u001b[39;49m\u001b[43m,\u001b[49m\u001b[43m \u001b[49m\u001b[43maxis\u001b[49m\u001b[43m,\u001b[49m\u001b[43m \u001b[49m\u001b[43mdtype\u001b[49m\u001b[43m,\u001b[49m\u001b[43m \u001b[49m\u001b[43mout\u001b[49m\u001b[43m,\u001b[49m\u001b[43m \u001b[49m\u001b[43mkeepdims\u001b[49m\u001b[43m=\u001b[49m\u001b[43mkeepdims\u001b[49m\u001b[43m,\u001b[49m\n\u001b[32m   2314\u001b[39m \u001b[43m                      \u001b[49m\u001b[43minitial\u001b[49m\u001b[43m=\u001b[49m\u001b[43minitial\u001b[49m\u001b[43m,\u001b[49m\u001b[43m \u001b[49m\u001b[43mwhere\u001b[49m\u001b[43m=\u001b[49m\u001b[43mwhere\u001b[49m\u001b[43m)\u001b[49m\n",
      "\u001b[36mFile \u001b[39m\u001b[32m~/miniconda3/envs/tf_env/lib/python3.12/site-packages/numpy/core/fromnumeric.py:88\u001b[39m, in \u001b[36m_wrapreduction\u001b[39m\u001b[34m(obj, ufunc, method, axis, dtype, out, **kwargs)\u001b[39m\n\u001b[32m     85\u001b[39m         \u001b[38;5;28;01melse\u001b[39;00m:\n\u001b[32m     86\u001b[39m             \u001b[38;5;28;01mreturn\u001b[39;00m reduction(axis=axis, out=out, **passkwargs)\n\u001b[32m---> \u001b[39m\u001b[32m88\u001b[39m \u001b[38;5;28;01mreturn\u001b[39;00m \u001b[43mufunc\u001b[49m\u001b[43m.\u001b[49m\u001b[43mreduce\u001b[49m\u001b[43m(\u001b[49m\u001b[43mobj\u001b[49m\u001b[43m,\u001b[49m\u001b[43m \u001b[49m\u001b[43maxis\u001b[49m\u001b[43m,\u001b[49m\u001b[43m \u001b[49m\u001b[43mdtype\u001b[49m\u001b[43m,\u001b[49m\u001b[43m \u001b[49m\u001b[43mout\u001b[49m\u001b[43m,\u001b[49m\u001b[43m \u001b[49m\u001b[43m*\u001b[49m\u001b[43m*\u001b[49m\u001b[43mpasskwargs\u001b[49m\u001b[43m)\u001b[49m\n",
      "\u001b[31mAxisError\u001b[39m: axis 2 is out of bounds for array of dimension 2"
     ]
    }
   ],
   "source": [
    "np.argmax(np.sum(logits_all,axis=2), axis=1)"
   ]
  },
  {
   "cell_type": "code",
   "execution_count": 504,
   "metadata": {},
   "outputs": [
    {
     "data": {
      "text/plain": [
       "array([4, 0, 4, 2, 3, 4, 1, 3, 1, 3, 1, 0, 3, 0, 2, 0, 1, 1, 4, 1, 3, 2,\n",
       "       0, 0, 3, 3, 4, 2, 2, 3, 3, 2, 4, 4, 3, 2, 0, 1, 1, 2, 2, 4, 0, 1,\n",
       "       2, 4, 3, 0, 2, 1, 3, 4, 1, 2, 4, 1, 2, 0, 3, 4, 4, 3, 1, 1, 0, 0,\n",
       "       4, 2, 1, 0, 4, 4, 2, 0, 2, 3, 2, 4, 2, 1, 0, 0, 0, 0, 2, 2, 2, 4,\n",
       "       0, 0, 0, 1, 4, 3, 2, 4, 3, 2, 4, 4])"
      ]
     },
     "execution_count": 504,
     "metadata": {},
     "output_type": "execute_result"
    }
   ],
   "source": [
    "np.argmax(outputs_all, axis=2).squeeze()"
   ]
  },
  {
   "cell_type": "code",
   "execution_count": 516,
   "metadata": {},
   "outputs": [
    {
     "name": "stdout",
     "output_type": "stream",
     "text": [
      "Baseline logit (with zero input): 0.7313\n",
      "Local linear approximation for the target logit (first class):\n",
      "  Particle 1: -0.1479*pt1 + -0.3190*eta1 + -0.1628*phi1\n",
      "  Particle 2: 0.0587*pt2 + -0.0403*eta2 + -0.0449*phi2\n",
      "  Particle 3: 0.0538*pt3 + -0.0313*eta3 + -0.0180*phi3\n",
      "  Particle 4: 0.0478*pt4 + -0.0326*eta4 + -0.0397*phi4\n",
      "  Particle 5: 0.0485*pt5 + -0.0303*eta5 + -0.0161*phi5\n",
      "  Particle 6: -0.0734*pt6 + 0.0829*eta6 + 0.0547*phi6\n",
      "  Particle 7: -0.1155*pt7 + -0.0629*eta7 + 0.0254*phi7\n",
      "  Particle 8: 0.0031*pt8 + -0.0487*eta8 + -0.0126*phi8\n",
      "  Particle 9: 0.0102*pt9 + -0.0448*eta9 + -0.0125*phi9\n",
      "  Particle 10: 0.0265*pt10 + -0.0234*eta10 + -0.0241*phi10\n",
      "  Particle 11: 0.0306*pt11 + 0.0022*eta11 + -0.0105*phi11\n",
      "  Particle 12: -0.0951*pt12 + -0.0505*eta12 + 0.0267*phi12\n",
      "  Particle 13: -0.1801*pt13 + 0.0576*eta13 + 0.0303*phi13\n",
      "  Particle 14: 0.0392*pt14 + -0.0204*eta14 + -0.0239*phi14\n",
      "  Particle 15: 0.0347*pt15 + -0.0200*eta15 + -0.0375*phi15\n",
      "  Particle 16: -0.1187*pt16 + 0.0439*eta16 + 0.0261*phi16\n",
      "  Particle 17: -0.1415*pt17 + -0.0284*eta17 + 0.0012*phi17\n",
      "  Particle 18: 0.0466*pt18 + 0.0029*eta18 + -0.0131*phi18\n",
      "  Particle 19: -0.1421*pt19 + 0.0448*eta19 + 0.0298*phi19\n",
      "  Particle 20: 0.0418*pt20 + -0.0334*eta20 + -0.0086*phi20\n",
      "  Particle 21: 0.0507*pt21 + -0.0171*eta21 + -0.0238*phi21\n",
      "  Particle 22: 0.0484*pt22 + -0.0160*eta22 + -0.0245*phi22\n",
      "  Particle 23: 0.0436*pt23 + -0.0316*eta23 + -0.0086*phi23\n",
      "  Particle 24: 0.0526*pt24 + -0.0150*eta24 + -0.0345*phi24\n",
      "  Particle 25: 0.0900*pt25 + -0.0297*eta25 + -0.0065*phi25\n",
      "  Particle 26: -0.0339*pt26 + 0.0167*eta26 + 0.0121*phi26\n",
      "  Particle 27: 0.1380*pt27 + -0.0229*eta27 + -0.0061*phi27\n",
      "  Particle 28: 0.1624*pt28 + -0.0097*eta28 + -0.0144*phi28\n",
      "  Particle 29: 0.1669*pt29 + -0.0079*eta29 + -0.0008*phi29\n",
      "  Particle 30: 3.3828*pt30 + -0.0924*eta30 + 0.0810*phi30\n",
      "  Particle 31: -0.0262*pt31 + 0.0098*eta31 + 0.0578*phi31\n",
      "  Particle 32: 0.6762*pt32 + 0.0592*eta32 + -0.0764*phi32\n",
      "\n",
      "Local linear approximation of logit for class 0: -0.3140\n",
      "Actual logit from model: 0.1467\n"
     ]
    }
   ],
   "source": [
    "import tensorflow as tf\n",
    "import numpy as np\n",
    "\n",
    "# Function to compute the gradient of the target logit w.r.t. the input features.\n",
    "def compute_gradients(input_sample, target_class=0):\n",
    "    \"\"\"\n",
    "    Computes the gradient of the target logit with respect to the input features.\n",
    "\n",
    "    Args:\n",
    "      input_sample: A tensor of shape (batch_size, 32, 3) representing the input.\n",
    "      target_class: The index of the output class for which to compute the gradient.\n",
    "\n",
    "    Returns:\n",
    "      gradients: Tensor of shape (batch_size, 32, 3) with the gradients.\n",
    "      target_logit: The scalar logit value for the target class.\n",
    "    \"\"\"\n",
    "    input_sample = tf.convert_to_tensor(input_sample)\n",
    "    with tf.GradientTape() as tape:\n",
    "        tape.watch(input_sample)\n",
    "        logits, _ = model(input_sample, training=False)\n",
    "        target_logit = logits[:, target_class]  # (batch_size,)\n",
    "    gradients = tape.gradient(target_logit, input_sample)\n",
    "    return gradients, target_logit\n",
    "\n",
    "# Function to print the local linear (closed-form) approximation for a single sample.\n",
    "def print_closed_form(input_sample, target_class=0):\n",
    "    \"\"\"\n",
    "    For a single input sample, prints a closed-form (local linear) approximation of the logit.\n",
    "    The approximation is:\n",
    "        logit ≈ baseline_logit + Σ_{i=1}^{32} [a_i * pt_i + b_i * eta_i + c_i * phi_i]\n",
    "    where the coefficients (a_i, b_i, c_i) are the gradients.\n",
    "    \"\"\"\n",
    "    # Ensure we work with a batch of size 1.\n",
    "    assert input_sample.shape[0] == 1, \"Input sample batch size must be 1.\"\n",
    "    \n",
    "    # Compute gradients at the given input.\n",
    "    grads, logit_val = compute_gradients(input_sample, target_class)\n",
    "    grads = grads.numpy()[0]  # shape (32, 3)\n",
    "    logit_val = logit_val.numpy()[0]\n",
    "    \n",
    "    # Compute baseline logit (using a baseline input, e.g., zeros)\n",
    "    baseline_input = np.zeros_like(input_sample)\n",
    "    baseline_logit = model(baseline_input, training=False)[0].numpy()[0, target_class]\n",
    "    \n",
    "    # The local linear approximation is:\n",
    "    # logit ≈ baseline_logit + sum_{particle=1}^{32} sum_{feature in [pt, eta, phi]} (gradient * feature)\n",
    "    print(f\"Baseline logit (with zero input): {baseline_logit:.4f}\")\n",
    "    print(\"Local linear approximation for the target logit (first class):\")\n",
    "    \n",
    "    total_contribution = baseline_logit\n",
    "    for i in range(32):\n",
    "        pt_coef = grads[i, 0]\n",
    "        eta_coef = grads[i, 1]\n",
    "        phi_coef = grads[i, 2]\n",
    "        pt_val = input_sample[0, i, 0]\n",
    "        eta_val = input_sample[0, i, 1]\n",
    "        phi_val = input_sample[0, i, 2]\n",
    "        \n",
    "        contribution = pt_coef * pt_val + eta_coef * eta_val + phi_coef * phi_val\n",
    "        total_contribution += contribution\n",
    "        \n",
    "        print(f\"  Particle {i+1}: {pt_coef:.4f}*pt{i+1} + {eta_coef:.4f}*eta{i+1} + {phi_coef:.4f}*phi{i+1}\")\n",
    "    \n",
    "    print(f\"\\nLocal linear approximation of logit for class {target_class}: {total_contribution:.4f}\")\n",
    "    print(f\"Actual logit from model: {logit_val:.4f}\")\n",
    "\n",
    "# Example usage:\n",
    "# Create a dummy input: a single sample with 32 particles, each having 3 features.\n",
    "dummy_input = x_val[0].reshape(1, 32, 3).astype(np.float32)\n",
    "print_closed_form(dummy_input, target_class=0)"
   ]
  },
  {
   "cell_type": "code",
   "execution_count": 518,
   "metadata": {},
   "outputs": [
    {
     "data": {
      "text/plain": [
       "<tf.Tensor: shape=(5,), dtype=float32, numpy=\n",
       "array([0.04026346, 0.19299054, 0.00737291, 0.03776041, 0.72161263],\n",
       "      dtype=float32)>"
      ]
     },
     "execution_count": 518,
     "metadata": {},
     "output_type": "execute_result"
    }
   ],
   "source": [
    "output[0]"
   ]
  },
  {
   "cell_type": "code",
   "execution_count": 519,
   "metadata": {},
   "outputs": [
    {
     "ename": "AttributeError",
     "evalue": "'Functional' object has no attribute 'forward_with_activations'",
     "output_type": "error",
     "traceback": [
      "\u001b[31m---------------------------------------------------------------------------\u001b[39m",
      "\u001b[31mAttributeError\u001b[39m                            Traceback (most recent call last)",
      "\u001b[36mCell\u001b[39m\u001b[36m \u001b[39m\u001b[32mIn[519]\u001b[39m\u001b[32m, line 226\u001b[39m\n\u001b[32m    223\u001b[39m target_class = \u001b[32m0\u001b[39m  \u001b[38;5;66;03m# for example, decompose the logit for class 0\u001b[39;00m\n\u001b[32m    225\u001b[39m \u001b[38;5;66;03m# Compute the exact decomposition.\u001b[39;00m\n\u001b[32m--> \u001b[39m\u001b[32m226\u001b[39m R_input = \u001b[43mexact_decomposition\u001b[49m\u001b[43m(\u001b[49m\u001b[43mmodel\u001b[49m\u001b[43m,\u001b[49m\u001b[43m \u001b[49m\u001b[43mdummy_input\u001b[49m\u001b[43m,\u001b[49m\u001b[43m \u001b[49m\u001b[43mtarget_class\u001b[49m\u001b[43m)\u001b[49m\n\u001b[32m    227\u001b[39m \u001b[38;5;28mprint\u001b[39m(\u001b[33m\"\u001b[39m\u001b[33mExact contribution of each feature for class\u001b[39m\u001b[33m\"\u001b[39m, target_class)\n\u001b[32m    228\u001b[39m \u001b[38;5;28mprint\u001b[39m(R_input.numpy())\n",
      "\u001b[36mCell\u001b[39m\u001b[36m \u001b[39m\u001b[32mIn[519]\u001b[39m\u001b[32m, line 160\u001b[39m, in \u001b[36mexact_decomposition\u001b[39m\u001b[34m(model, input_sample, target_class)\u001b[39m\n\u001b[32m    146\u001b[39m \u001b[38;5;250m\u001b[39m\u001b[33;03m\"\"\"\u001b[39;00m\n\u001b[32m    147\u001b[39m \u001b[33;03mCompute an exact decomposition of the logit for target_class in terms of the input features.\u001b[39;00m\n\u001b[32m    148\u001b[39m \u001b[33;03m\u001b[39;00m\n\u001b[32m    149\u001b[39m \u001b[33;03mReturns a tensor of shape (1, 32, 3) representing the exact contribution of each feature.\u001b[39;00m\n\u001b[32m    150\u001b[39m \u001b[33;03m\"\"\"\u001b[39;00m\n\u001b[32m    151\u001b[39m \u001b[38;5;66;03m# Forward pass: store intermediate activations.\u001b[39;00m\n\u001b[32m    152\u001b[39m \u001b[38;5;66;03m# You need to modify your model (or use a modified forward function) to capture:\u001b[39;00m\n\u001b[32m    153\u001b[39m \u001b[38;5;66;03m# - The embedding output.\u001b[39;00m\n\u001b[32m   (...)\u001b[39m\u001b[32m    158\u001b[39m \n\u001b[32m    159\u001b[39m \u001b[38;5;66;03m# For illustration, let’s assume we have functions that perform the forward pass and return a dictionary:\u001b[39;00m\n\u001b[32m--> \u001b[39m\u001b[32m160\u001b[39m activations = \u001b[43mmodel\u001b[49m\u001b[43m.\u001b[49m\u001b[43mforward_with_activations\u001b[49m(input_sample)\n\u001b[32m    161\u001b[39m \u001b[38;5;66;03m# activations might be a dict with keys:\u001b[39;00m\n\u001b[32m    162\u001b[39m \u001b[38;5;66;03m# 'emb': embedding output, shape (1, 32, d_model)\u001b[39;00m\n\u001b[32m    163\u001b[39m \u001b[38;5;66;03m# 'attn': output of multi-head attention (before layernorm)\u001b[39;00m\n\u001b[32m   (...)\u001b[39m\u001b[32m    173\u001b[39m \n\u001b[32m    174\u001b[39m \u001b[38;5;66;03m# Now start with the target logit for class target_class.\u001b[39;00m\n\u001b[32m    175\u001b[39m logits = activations[\u001b[33m'\u001b[39m\u001b[33mlogits\u001b[39m\u001b[33m'\u001b[39m]  \u001b[38;5;66;03m# shape (1, num_classes)\u001b[39;00m\n",
      "\u001b[31mAttributeError\u001b[39m: 'Functional' object has no attribute 'forward_with_activations'"
     ]
    }
   ],
   "source": [
    "import tensorflow as tf\n",
    "import numpy as np\n",
    "\n",
    "# --- Utility: a simple LRP rule for a dense layer (epsilon-rule) ---\n",
    "def lrp_dense(x, dense_layer, R_out, epsilon=1e-6):\n",
    "    \"\"\"\n",
    "    Propagate relevance R_out from a Dense layer back to its input x.\n",
    "    \n",
    "    Args:\n",
    "      x: Input tensor to the dense layer, shape (batch, in_features)\n",
    "      dense_layer: a tf.keras.layers.Dense instance.\n",
    "      R_out: Relevance at the output of the dense layer, shape (batch, out_features)\n",
    "      epsilon: small number for stability.\n",
    "      \n",
    "    Returns:\n",
    "      R_in: Relevance distributed to x, shape (batch, in_features)\n",
    "    \"\"\"\n",
    "    # Get weights and bias\n",
    "    W = dense_layer.kernel  # shape (in_features, out_features)\n",
    "    b = dense_layer.bias    # shape (out_features,)\n",
    "    \n",
    "    # Forward pass: compute the pre-activation contributions.\n",
    "    Z = tf.matmul(x, W) + b  # shape (batch, out_features)\n",
    "    # Stabilize denominator\n",
    "    Z_stable = Z + epsilon * tf.where(tf.greater_equal(Z, 0), 1.0, -1.0)\n",
    "    \n",
    "    # Contribution from each input: shape (batch, in_features, out_features)\n",
    "    # We use broadcasting: (batch, in_features)[:, :, None] * (W[None, :, :]) gives shape (batch, in_features, out_features)\n",
    "    contribution = (x[:, :, None] * W[None, :, :]) / Z_stable[:, None, :]\n",
    "    \n",
    "    # Propagate relevance: sum over outputs to get relevance for each input feature.\n",
    "    R_in = tf.reduce_sum(contribution * R_out[:, None, :], axis=-1)\n",
    "    return R_in\n",
    "\n",
    "# --- Utility: LRP rule for layer normalization ---\n",
    "def lrp_layer_norm(x, gamma, beta, R_out, epsilon=1e-6):\n",
    "    \"\"\"\n",
    "    Propagate relevance through a layer normalization.\n",
    "    Layer normalization computes:\n",
    "      y = gamma * ((x - mean)/sqrt(var+epsilon)) + beta\n",
    "    Because normalization couples all inputs, one common approach is to distribute\n",
    "    relevance proportionally to the contribution of each input.\n",
    "    \n",
    "    This is a non-trivial step and several variants exist.\n",
    "    Here we assume a simple proportional rule.\n",
    "    \n",
    "    Args:\n",
    "      x: Input tensor of shape (batch, features)\n",
    "      gamma: Scale parameter, shape (features,)\n",
    "      beta: Offset parameter, shape (features,)\n",
    "      R_out: Relevance at the output, same shape as x.\n",
    "      \n",
    "    Returns:\n",
    "      R_in: Relevance for x, same shape as x.\n",
    "    \"\"\"\n",
    "    # Compute normalized x (as in the forward pass)\n",
    "    mean, variance = tf.nn.moments(x, axes=[-1], keepdims=True)\n",
    "    std = tf.sqrt(variance + epsilon)\n",
    "    x_norm = (x - mean) / std\n",
    "    # The effective linear contribution of each x_i is given by gamma / std.\n",
    "    weights = gamma / std  # shape (batch, features) after broadcasting gamma\n",
    "    # Distribute R_out in proportion to the absolute contribution.\n",
    "    # (This is one possible rule; LRP for layer norm is an area of active research.)\n",
    "    contrib = tf.abs(x * weights)\n",
    "    contrib_sum = tf.reduce_sum(contrib, axis=-1, keepdims=True) + epsilon\n",
    "    R_in = (contrib / contrib_sum) * R_out\n",
    "    return R_in\n",
    "\n",
    "# --- Utility: LRP rule for the attention layer ---\n",
    "def lrp_attention(x, mha_layer, R_out, input_activation):\n",
    "    \"\"\"\n",
    "    Propagate relevance through the multi-head attention.\n",
    "    We assume that the attention layer computes:\n",
    "      Q = x W_q, K = x W_k, V = x W_v,\n",
    "      then attention weights A = softmax(QK^T / sqrt(d_k)),\n",
    "      and output = A * V, then a final Dense projection.\n",
    "      \n",
    "    We assume that we can treat the attention as coefficients on the value vectors.\n",
    "    Moreover, if V is linear in x (i.e. V = x W_v), then we can backpropagate R_out\n",
    "    exactly as a linear combination.\n",
    "    \n",
    "    Args:\n",
    "      x: Input to the attention block, shape (batch, seq_len, d_model)\n",
    "      mha_layer: the custom multi-head attention layer.\n",
    "      R_out: Relevance at the output of the attention block, shape (batch, seq_len, d_model)\n",
    "      input_activation: The original activation that went into the attention block.\n",
    "      \n",
    "    Returns:\n",
    "      R_in: Relevance attributed back to x.\n",
    "    \"\"\"\n",
    "    # For simplicity, we assume the mha_layer exposes its attention weights and\n",
    "    # the projection matrices.\n",
    "    # (You would need to modify your custom attention layer to store these during the forward pass.)\n",
    "    \n",
    "    # Get the attention weights A and the value projection W_v:\n",
    "    A = mha_layer.attention_weights  # shape (batch, num_heads, seq_len, seq_len)\n",
    "    W_v = mha_layer.wv  # shape (d_model, d_model)\n",
    "    \n",
    "    # Get the value vectors: V = x @ W_v, then split into heads, etc.\n",
    "    V = tf.matmul(input_activation, W_v)  # shape (batch, seq_len, d_model)\n",
    "    \n",
    "    # For each head, the contribution from the j-th input to the i-th output is A[i,j] * V[j]\n",
    "    # For an exact decomposition, we “pull back” the relevance R_out (after the final dense projection of attention)\n",
    "    # onto the value vectors, and then back to the original x via the linear transformation W_v.\n",
    "    # This example uses a simplified rule:\n",
    "    \n",
    "    # First, average the attention over heads:\n",
    "    A_mean = tf.reduce_mean(A, axis=1)  # shape (batch, seq_len, seq_len)\n",
    "    \n",
    "    # Now, distribute relevance from each output token back to each input token proportionally to A_mean.\n",
    "    # Assume R_out is of shape (batch, seq_len, d_model) and V is of shape (batch, seq_len, d_model).\n",
    "    # We “reverse” the multiplication by W_v:\n",
    "    # Compute contribution factors from V back to x:\n",
    "    # (This is analogous to a dense layer; you can use a similar rule as in lrp_dense.)\n",
    "    \n",
    "    # First, propagate relevance from the attention output to V:\n",
    "    R_V = tf.matmul(tf.transpose(A_mean, perm=[0,2,1]), R_out)  # shape (batch, seq_len, d_model)\n",
    "    \n",
    "    # Now, propagate relevance from V to x using the dense rule.\n",
    "    # Reshape x and R_V to 2D.\n",
    "    batch, seq_len, d_model = tf.shape(x)[0], tf.shape(x)[1], tf.shape(x)[2]\n",
    "    x_flat = tf.reshape(x, (batch * seq_len, d_model))\n",
    "    R_V_flat = tf.reshape(R_V, (batch * seq_len, d_model))\n",
    "    # Use the dense LRP rule with W_v.\n",
    "    R_in_flat = lrp_dense(x_flat, dense_layer=tf.keras.layers.Dense(d_model, use_bias=False,\n",
    "                                                                     kernel_initializer=tf.constant_initializer(W_v.numpy())),\n",
    "                          R_out=R_V_flat)\n",
    "    R_in = tf.reshape(R_in_flat, (batch, seq_len, d_model))\n",
    "    return R_in\n",
    "\n",
    "# --- Example: Exact decomposition through a simplified transformer classifier ---\n",
    "#\n",
    "# Suppose we have a model with the following structure:\n",
    "#  1. Embedding: Dense layer with ReLU.\n",
    "#  2. Transformer block: Multi-head attention (with layernorm and residual) followed by a feedforward (dense, ReLU, dense)\n",
    "#     with layernorm.\n",
    "#  3. Aggregation: e.g. max pooling over the sequence dimension.\n",
    "#  4. Classification: Two Dense layers (last with no nonlinearity to get logits).\n",
    "#\n",
    "# To decompose the logit for each class exactly, you would do a forward pass and store the intermediate activations.\n",
    "# Then, starting from the output logit for class c, you would backpropagate “relevance” using the above rules.\n",
    "#\n",
    "# Below is a schematic outline. (Note: this is a skeleton – you will need to adjust it to your actual model.)\n",
    "\n",
    "def exact_decomposition(model, input_sample, target_class):\n",
    "    \"\"\"\n",
    "    Compute an exact decomposition of the logit for target_class in terms of the input features.\n",
    "    \n",
    "    Returns a tensor of shape (1, 32, 3) representing the exact contribution of each feature.\n",
    "    \"\"\"\n",
    "    # Forward pass: store intermediate activations.\n",
    "    # You need to modify your model (or use a modified forward function) to capture:\n",
    "    # - The embedding output.\n",
    "    # - The output of the multi-head attention (and its stored attention weights).\n",
    "    # - The outputs after each layer norm.\n",
    "    # - The aggregated (pooled) representation.\n",
    "    # - The final dense layers.\n",
    "    \n",
    "    # For illustration, let’s assume we have functions that perform the forward pass and return a dictionary:\n",
    "    activations = model.forward_with_activations(input_sample)\n",
    "    # activations might be a dict with keys:\n",
    "    # 'emb': embedding output, shape (1, 32, d_model)\n",
    "    # 'attn': output of multi-head attention (before layernorm)\n",
    "    # 'ln1': output after first layer norm (i.e. emb + attn)\n",
    "    # 'ffn': output of feed-forward network\n",
    "    # 'ln2': output after second layer norm (i.e. ln1 + ffn)\n",
    "    # 'pool': aggregated representation, shape (1, d_model)\n",
    "    # 'dense1': output after first final dense (with ReLU)\n",
    "    # 'logits': final logits, shape (1, num_classes)\n",
    "    \n",
    "    # Also assume the multi-head attention layer stored its attention weights in:\n",
    "    # activations['attn_weights']\n",
    "    \n",
    "    # Now start with the target logit for class target_class.\n",
    "    logits = activations['logits']  # shape (1, num_classes)\n",
    "    # We set relevance R at the output to be all zeros except for the target class.\n",
    "    R = tf.zeros_like(logits)\n",
    "    R = tf.tensor_scatter_nd_update(R, [[0, target_class]], [logits[0, target_class]])\n",
    "    \n",
    "    # --- Backpropagate through the final Dense layer (dense2) ---\n",
    "    # Let dense2 be the final dense layer (without activation) that maps from dense1 to logits.\n",
    "    dense2 = model.get_layer('dense_2')  # adjust layer name accordingly\n",
    "    dense1_out = activations['dense1']  # shape (1, hidden_dim)\n",
    "    R_dense1 = lrp_dense(dense1_out, dense2, R)  # relevance for dense1 output\n",
    "    \n",
    "    # --- Backpropagate through the first final Dense (dense1) ---\n",
    "    dense1 = model.get_layer('dense_1')  # adjust name accordingly\n",
    "    pooled = activations['pool']  # shape (1, d_model)\n",
    "    R_pool = lrp_dense(pooled, dense1, R_dense1)\n",
    "    \n",
    "    # --- Backpropagate through the aggregation layer ---\n",
    "    # If using max pooling, the relevance is attributed to the input token(s) that achieved the maximum.\n",
    "    # For simplicity, assume we know which token index was selected.\n",
    "    # (In practice, you’d need to record the argmax from the forward pass.)\n",
    "    pooled_index = activations.get('pool_index', 0)  # index of the token selected\n",
    "    R_ln2 = tf.zeros_like(activations['ln2'])  # shape (1, seq_len, d_model)\n",
    "    R_ln2 = tf.tensor_scatter_nd_update(R_ln2, [[0, pooled_index]], [R_pool[0]])\n",
    "    \n",
    "    # --- Backpropagate through the transformer block ---\n",
    "    # Decompose through the feed-forward network and the residual+layernorm.\n",
    "    # Here we would use lrp_dense for the feed-forward dense layers and lrp_layer_norm for the layernorms.\n",
    "    # For brevity, let’s assume we have a function that does the full transformer block:\n",
    "    R_ln1 = propagate_through_transformer_block(activations, R_ln2)\n",
    "    # (You would implement propagate_through_transformer_block using the rules above for dense, attention,\n",
    "    # and layer normalization.)\n",
    "    \n",
    "    # --- Backpropagate through the embedding layer ---\n",
    "    emb = activations['emb']  # shape (1, 32, d_model)\n",
    "    # Suppose the embedding was produced by a Dense layer with ReLU from the original input.\n",
    "    embedding_dense = model.get_layer('embedding_dense')  # adjust name accordingly\n",
    "    # Reshape the input sample to match the dense layer’s expectation if necessary.\n",
    "    input_flat = tf.reshape(input_sample, (1, -1))  # shape (1, 32*3)\n",
    "    emb_flat = tf.reshape(emb, (1, -1))             # shape (1, 32*d_model)\n",
    "    R_input_flat = lrp_dense(input_flat, embedding_dense, tf.reshape(R_ln1, (1, -1)))\n",
    "    R_input = tf.reshape(R_input_flat, (1, 32, 3))\n",
    "    \n",
    "    return R_input\n",
    "\n",
    "# --- Example usage ---\n",
    "# Assume you have modified your transformer classifier to use layernorm and to expose\n",
    "# a forward_with_activations method.\n",
    "dummy_input = np.random.rand(1, 32, 3).astype(np.float32)\n",
    "target_class = 0  # for example, decompose the logit for class 0\n",
    "\n",
    "# Compute the exact decomposition.\n",
    "R_input = exact_decomposition(model, dummy_input, target_class)\n",
    "print(\"Exact contribution of each feature for class\", target_class)\n",
    "print(R_input.numpy())\n"
   ]
  },
  {
   "cell_type": "code",
   "execution_count": 78,
   "metadata": {},
   "outputs": [
    {
     "name": "stdout",
     "output_type": "stream",
     "text": [
      "Logits:\n",
      "[[0.45055163 0.36576945 0.07713236 0.08931856 0.01722811]]\n",
      "\n",
      "Input gradients shape: (1, 32, 3)\n"
     ]
    }
   ],
   "source": [
    "import tensorflow as tf\n",
    "import numpy as np\n",
    "\n",
    "# Assume 'model' is your pretrained transformer classifier that outputs [logits, attn_weights]\n",
    "# Here, we create a function to compute gradients of the logits with respect to the inputs.\n",
    "def compute_input_gradients(model, input_data):\n",
    "    \"\"\"\n",
    "    Compute the gradient of the output logits with respect to the input_data.\n",
    "    \n",
    "    Args:\n",
    "      model: The pretrained transformer model.\n",
    "      input_data: A tensor of shape (batch_size, 32, 3).\n",
    "      \n",
    "    Returns:\n",
    "      logits: The model's output logits (before softmax) or probabilities if that's what the model outputs.\n",
    "      gradients: The gradients of the logits with respect to the input data.\n",
    "    \"\"\"\n",
    "    # Ensure we record the operations on the input_data.\n",
    "    with tf.GradientTape() as tape:\n",
    "        tape.watch(input_data)\n",
    "        # Forward pass. If your model returns attention as well, we extract the logits.\n",
    "        logits, _ = model(input_data, training=False)\n",
    "    \n",
    "    # Compute the gradient of the logits with respect to the input.\n",
    "    gradients = tape.gradient(logits, input_data)\n",
    "    return logits, gradients\n",
    "\n",
    "# Create a dummy input for one event with shape (1, 32, 3)\n",
    "dummy_input = tf.convert_to_tensor(x_val[0].reshape(1, 32, 3))\n",
    "\n",
    "# Compute the logits and the gradients.\n",
    "logits, input_grads = compute_input_gradients(model, dummy_input)\n",
    "\n",
    "print(\"Logits:\")\n",
    "print(logits.numpy())\n",
    "print(\"\\nInput gradients shape:\", input_grads.shape)\n"
   ]
  },
  {
   "cell_type": "code",
   "execution_count": 83,
   "metadata": {},
   "outputs": [
    {
     "data": {
      "text/plain": [
       "<tf.Tensor: shape=(1, 32, 3), dtype=float64, numpy=\n",
       "array([[[-3.62904089e-08,  5.84024384e-09, -9.60354818e-09],\n",
       "        [-5.41380913e-08, -1.40403600e-09, -8.02353739e-09],\n",
       "        [-6.77299852e-08,  3.29617933e-09, -2.16623022e-08],\n",
       "        [-5.97878369e-08, -4.88332752e-09, -9.33749700e-09],\n",
       "        [-6.84285908e-08, -1.24130040e-09, -1.41802019e-08],\n",
       "        [-8.77411253e-07, -1.30474902e-08,  1.06704725e-08],\n",
       "        [-6.10114483e-08, -4.70746997e-10, -1.31426265e-08],\n",
       "        [ 1.55262470e-10, -1.70631420e-08, -1.39995162e-08],\n",
       "        [ 1.30568128e-06,  6.30958965e-08,  2.29937470e-07],\n",
       "        [-2.91977926e-08,  9.21671361e-09, -1.57129261e-08],\n",
       "        [-5.59940787e-08, -7.66238628e-10, -1.20976908e-08],\n",
       "        [-8.50848920e-08,  6.28507379e-09, -1.70311090e-08],\n",
       "        [-3.62767381e-08,  5.08600806e-08, -1.11225766e-08],\n",
       "        [-7.53170184e-08,  6.49683614e-08, -1.60761346e-07],\n",
       "        [ 1.46889420e-07,  2.94015345e-09,  4.82790803e-08],\n",
       "        [-6.77644891e-08, -6.70155487e-10, -1.54359796e-08],\n",
       "        [-7.71397950e-08, -1.67122494e-09, -6.25926688e-09],\n",
       "        [-6.57826149e-08, -6.78785561e-09, -3.71236242e-09],\n",
       "        [-7.42216670e-08, -1.48031631e-09, -6.21247231e-09],\n",
       "        [-5.63279983e-08,  6.31766639e-10, -1.33080817e-08],\n",
       "        [-5.27030934e-08,  4.16385149e-10, -8.38710257e-09],\n",
       "        [-4.16247126e-08,  3.07423598e-08, -3.33433903e-08],\n",
       "        [-7.01117813e-08, -2.11679563e-10, -1.02444524e-08],\n",
       "        [-8.71534809e-08,  1.17837828e-09, -1.27518263e-08],\n",
       "        [-8.00286841e-08,  7.77266251e-10, -1.91463769e-08],\n",
       "        [-4.36657004e-08, -2.44991298e-08, -1.87605309e-08],\n",
       "        [-1.03207100e-07,  3.57702739e-08,  2.59033150e-08],\n",
       "        [-1.91100966e-08,  8.37809200e-09, -3.11672110e-08],\n",
       "        [-5.65994043e-08, -1.16620553e-08, -1.26062663e-08],\n",
       "        [-1.49328656e-08,  1.74442185e-08, -2.20096421e-08],\n",
       "        [-6.12798132e-08, -3.83924146e-08, -4.01830249e-08],\n",
       "        [-5.35087246e-08, -1.06668701e-08, -4.75492961e-08]]])>"
      ]
     },
     "execution_count": 83,
     "metadata": {},
     "output_type": "execute_result"
    }
   ],
   "source": [
    "input_grads"
   ]
  },
  {
   "cell_type": "code",
   "execution_count": 95,
   "metadata": {},
   "outputs": [],
   "source": [
    "from tqdm import tqdm"
   ]
  },
  {
   "cell_type": "code",
   "execution_count": null,
   "metadata": {},
   "outputs": [
    {
     "name": "stderr",
     "output_type": "stream",
     "text": [
      "  0%|          | 0/100 [00:00<?, ?it/s]\n"
     ]
    },
    {
     "ename": "AttributeError",
     "evalue": "EagerTensor object has no attribute 'astype'. \n        If you are looking for numpy-related methods, please run the following:\n        tf.experimental.numpy.experimental_enable_numpy_behavior()\n      ",
     "output_type": "error",
     "traceback": [
      "\u001b[31m---------------------------------------------------------------------------\u001b[39m",
      "\u001b[31mAttributeError\u001b[39m                            Traceback (most recent call last)",
      "\u001b[36mCell\u001b[39m\u001b[36m \u001b[39m\u001b[32mIn[113]\u001b[39m\u001b[32m, line 12\u001b[39m\n\u001b[32m      5\u001b[39m \u001b[38;5;66;03m#jacobians = []\u001b[39;00m\n\u001b[32m      6\u001b[39m \n\u001b[32m      7\u001b[39m \u001b[38;5;66;03m# Assume your pretrained transformer model is already defined and loaded as `model`\u001b[39;00m\n\u001b[32m      8\u001b[39m \u001b[38;5;66;03m# and that it outputs a tuple: (logits, attention_weights).\u001b[39;00m\n\u001b[32m      9\u001b[39m \n\u001b[32m     10\u001b[39m \u001b[38;5;66;03m# Create a dummy input representing one event: (batch=1, 32 particles, 3 features)\u001b[39;00m\n\u001b[32m     11\u001b[39m \u001b[38;5;28;01mfor\u001b[39;00m jet \u001b[38;5;129;01min\u001b[39;00m tqdm(\u001b[38;5;28mrange\u001b[39m(\u001b[32m100\u001b[39m)):\n\u001b[32m---> \u001b[39m\u001b[32m12\u001b[39m     dummy_input = \u001b[43mtf\u001b[49m\u001b[43m.\u001b[49m\u001b[43mconvert_to_tensor\u001b[49m\u001b[43m(\u001b[49m\u001b[43mx_val\u001b[49m\u001b[43m[\u001b[49m\u001b[43mjet\u001b[49m\u001b[43m]\u001b[49m\u001b[43m.\u001b[49m\u001b[43mreshape\u001b[49m\u001b[43m(\u001b[49m\u001b[32;43m1\u001b[39;49m\u001b[43m,\u001b[49m\u001b[32;43m32\u001b[39;49m\u001b[43m,\u001b[49m\u001b[32;43m3\u001b[39;49m\u001b[43m)\u001b[49m\u001b[43m)\u001b[49m\u001b[43m.\u001b[49m\u001b[43mastype\u001b[49m(\u001b[33m'\u001b[39m\u001b[33mfloat32\u001b[39m\u001b[33m'\u001b[39m)\n\u001b[32m     14\u001b[39m     \u001b[38;5;28;01mwith\u001b[39;00m tf.GradientTape() \u001b[38;5;28;01mas\u001b[39;00m tape:\n\u001b[32m     15\u001b[39m         tape.watch(dummy_input)\n",
      "\u001b[36mFile \u001b[39m\u001b[32m~/miniconda3/envs/tf_env/lib/python3.12/site-packages/tensorflow/python/framework/tensor.py:255\u001b[39m, in \u001b[36mTensor.__getattr__\u001b[39m\u001b[34m(self, name)\u001b[39m\n\u001b[32m    251\u001b[39m \u001b[38;5;28;01mdef\u001b[39;00m\u001b[38;5;250m \u001b[39m\u001b[34m__getattr__\u001b[39m(\u001b[38;5;28mself\u001b[39m, name):\n\u001b[32m    252\u001b[39m   \u001b[38;5;28;01mif\u001b[39;00m name \u001b[38;5;129;01min\u001b[39;00m {\u001b[33m\"\u001b[39m\u001b[33mT\u001b[39m\u001b[33m\"\u001b[39m, \u001b[33m\"\u001b[39m\u001b[33mastype\u001b[39m\u001b[33m\"\u001b[39m, \u001b[33m\"\u001b[39m\u001b[33mravel\u001b[39m\u001b[33m\"\u001b[39m, \u001b[33m\"\u001b[39m\u001b[33mtranspose\u001b[39m\u001b[33m\"\u001b[39m, \u001b[33m\"\u001b[39m\u001b[33mreshape\u001b[39m\u001b[33m\"\u001b[39m, \u001b[33m\"\u001b[39m\u001b[33mclip\u001b[39m\u001b[33m\"\u001b[39m, \u001b[33m\"\u001b[39m\u001b[33msize\u001b[39m\u001b[33m\"\u001b[39m,\n\u001b[32m    253\u001b[39m               \u001b[33m\"\u001b[39m\u001b[33mtolist\u001b[39m\u001b[33m\"\u001b[39m, \u001b[33m\"\u001b[39m\u001b[33mdata\u001b[39m\u001b[33m\"\u001b[39m}:\n\u001b[32m    254\u001b[39m     \u001b[38;5;66;03m# TODO(wangpeng): Export the enable_numpy_behavior knob\u001b[39;00m\n\u001b[32m--> \u001b[39m\u001b[32m255\u001b[39m     \u001b[38;5;28;01mraise\u001b[39;00m \u001b[38;5;167;01mAttributeError\u001b[39;00m(\n\u001b[32m    256\u001b[39m         \u001b[33mf\u001b[39m\u001b[33m\"\u001b[39m\u001b[38;5;132;01m{\u001b[39;00m\u001b[38;5;28mtype\u001b[39m(\u001b[38;5;28mself\u001b[39m).\u001b[34m__name__\u001b[39m\u001b[38;5;132;01m}\u001b[39;00m\u001b[33m object has no attribute \u001b[39m\u001b[33m'\u001b[39m\u001b[38;5;132;01m{\u001b[39;00mname\u001b[38;5;132;01m}\u001b[39;00m\u001b[33m'\u001b[39m\u001b[33m. \u001b[39m\u001b[33m\"\u001b[39m + \u001b[33m\"\"\"\u001b[39m\n\u001b[32m    257\u001b[39m \u001b[33m      If you are looking for numpy-related methods, please run the following:\u001b[39m\n\u001b[32m    258\u001b[39m \u001b[33m      tf.experimental.numpy.experimental_enable_numpy_behavior()\u001b[39m\n\u001b[32m    259\u001b[39m \u001b[33m    \u001b[39m\u001b[33m\"\"\"\u001b[39m)\n\u001b[32m    260\u001b[39m   \u001b[38;5;28mself\u001b[39m.\u001b[34m__getattribute__\u001b[39m(name)\n",
      "\u001b[31mAttributeError\u001b[39m: EagerTensor object has no attribute 'astype'. \n        If you are looking for numpy-related methods, please run the following:\n        tf.experimental.numpy.experimental_enable_numpy_behavior()\n      "
     ]
    }
   ],
   "source": [
    "import tensorflow as tf\n",
    "import numpy as np\n",
    "logitsPred = []\n",
    "output = []\n",
    "#jacobians = []\n",
    "\n",
    "# Assume your pretrained transformer model is already defined and loaded as `model`\n",
    "# and that it outputs a tuple: (logits, attention_weights).\n",
    "\n",
    "# Create a dummy input representing one event: (batch=1, 32 particles, 3 features)\n",
    "for jet in tqdm(range(100)):\n",
    "    dummy_input = tf.convert_to_tensor(x_val[jet].reshape(1,32,3))\n",
    "\n",
    "    with tf.GradientTape() as tape:\n",
    "        tape.watch(dummy_input)\n",
    "        logits, attn_weights = model(dummy_input, training=False)\n",
    "\n",
    "    # Compute the Jacobian: shape expected is (batch, num_classes, 1, 32, 3)\n",
    "    jacobian = tape.jacobian(logits, dummy_input)\n",
    "\n",
    "    # Squeeze the extra dimension (of size 1) to get shape: (1, num_classes, 32, 3)\n",
    "    jacobian = tf.squeeze(jacobian, axis=2)\n",
    "\n",
    "    # Optionally, reconstruct the logits using a linear approximation:\n",
    "    # Here we assume a baseline of zeros.\n",
    "    baseline = tf.zeros_like(dummy_input)\n",
    "    # The einsum computes the weighted sum: (batch, num_classes)\n",
    "    linear_component = tf.einsum('bckf,bkf->bc', jacobian, dummy_input - baseline)\n",
    "\n",
    "    logitsPred.append(softmax(linear_component))\n",
    "    output.append(logits)\n",
    "\n"
   ]
  },
  {
   "cell_type": "code",
   "execution_count": 106,
   "metadata": {},
   "outputs": [],
   "source": [
    "a = np.argmax(logitsPred, axis=2).squeeze()"
   ]
  },
  {
   "cell_type": "code",
   "execution_count": 107,
   "metadata": {},
   "outputs": [],
   "source": [
    "b = np.argmax(output, axis=2).squeeze()"
   ]
  },
  {
   "cell_type": "code",
   "execution_count": 109,
   "metadata": {},
   "outputs": [],
   "source": [
    "import sklearn"
   ]
  },
  {
   "cell_type": "code",
   "execution_count": 110,
   "metadata": {},
   "outputs": [
    {
     "data": {
      "text/plain": [
       "0.48"
      ]
     },
     "execution_count": 110,
     "metadata": {},
     "output_type": "execute_result"
    }
   ],
   "source": [
    "sklearn.metrics.accuracy_score(a, b)"
   ]
  },
  {
   "cell_type": "code",
   "execution_count": 164,
   "metadata": {},
   "outputs": [
    {
     "name": "stdout",
     "output_type": "stream",
     "text": [
      "Model logits:\n",
      "[[0.45055163 0.36576945 0.07713236 0.08931856 0.01722811]]\n",
      "\n",
      "Model softmax probabilities:\n",
      "[[0.25302008 0.23245265 0.17417306 0.17630856 0.16404572]]\n",
      "\n",
      "Effective logits computed from Jacobian (should equal model logits):\n",
      "[[0.45055163 0.3657695  0.07713236 0.08931857 0.01722811]]\n",
      "\n",
      "Softmax computed from effective logits:\n",
      "[[0.25302005 0.23245265 0.17417306 0.17630854 0.16404572]]\n"
     ]
    }
   ],
   "source": [
    "# Compute logits and the local linear mapping (Jacobian) for the given input.\n",
    "outputs = []\n",
    "logits = []\n",
    "dummy_input = tf.convert_to_tensor(x_val[0].reshape(1,32,3).astype('float32'))\n",
    "\n",
    "\n",
    "# Assume your pretrained transformer classifier is defined as `model`\n",
    "# and that it outputs a tuple: (logits, attention_weights)\n",
    "# For example, you might have built it with:\n",
    "# model = build_custom_transformer_classifier(..., return_attention=True)\n",
    "\n",
    "# Create a dummy input representing one event: (batch=1, 32 particles, 3 features)\n",
    "\n",
    "# Run the model and compute the Jacobian for the effective linear mapping.\n",
    "with tf.GradientTape() as tape:\n",
    "    tape.watch(dummy_input)\n",
    "    logits, attn_weights = model(dummy_input, training=False)\n",
    "\n",
    "# Compute softmax of the model's logits for reference.\n",
    "model_softmax = tf.nn.softmax(logits, axis=-1)\n",
    "\n",
    "# Compute the Jacobian of the logits with respect to the input.\n",
    "jacobian = tape.jacobian(logits, dummy_input)\n",
    "# Remove the extra singleton dimension: resulting shape (1, num_classes, 32, 3)\n",
    "jacobian = tf.squeeze(jacobian, axis=2)\n",
    "\n",
    "# Compute the effective linear contribution from the input features.\n",
    "linear_component = tf.einsum('bckf,bkf->bc', jacobian, dummy_input)\n",
    "\n",
    "# Compute the effective bias: difference between the model's logits and the linear contribution.\n",
    "effective_bias = logits - linear_component\n",
    "\n",
    "# Compute effective logits as the sum of the linear component and the bias.\n",
    "effective_logits = linear_component + effective_bias\n",
    "\n",
    "# Compute the softmax from the effective logits.\n",
    "effective_softmax = tf.nn.softmax(effective_logits, axis=-1)\n",
    "\n",
    "# Print model outputs and the effective softmax computed via the Jacobian.\n",
    "print(\"Model logits:\")\n",
    "print(logits.numpy())\n",
    "\n",
    "print(\"\\nModel softmax probabilities:\")\n",
    "print(model_softmax.numpy())\n",
    "\n",
    "print(\"\\nEffective logits computed from Jacobian (should equal model logits):\")\n",
    "print(effective_logits.numpy())\n",
    "\n",
    "print(\"\\nSoftmax computed from effective logits:\")\n",
    "print(effective_softmax.numpy())\n",
    "\n"
   ]
  },
  {
   "cell_type": "code",
   "execution_count": 171,
   "metadata": {},
   "outputs": [
    {
     "data": {
      "text/plain": [
       "array([[-0.1377,  0.0047, -0.0093],\n",
       "       [-0.1109,  0.0019,  0.0009],\n",
       "       [-0.1409, -0.0062, -0.0021],\n",
       "       [-0.11  , -0.0059, -0.0066],\n",
       "       [-0.1351, -0.0025,  0.0033],\n",
       "       [-3.2332, -0.0446,  0.0815],\n",
       "       [-0.1149, -0.0029, -0.0099],\n",
       "       [-0.3021, -0.1276, -0.0237],\n",
       "       [ 1.0044,  0.0743,  0.2667],\n",
       "       [-0.1294,  0.0089, -0.0121],\n",
       "       [-0.105 , -0.002 , -0.0093],\n",
       "       [-0.1957,  0.0064, -0.0149],\n",
       "       [-0.0944,  0.0472, -0.0087],\n",
       "       [-0.1962, -0.0295,  0.0021],\n",
       "       [ 0.039 ,  0.0015,  0.0456],\n",
       "       [-0.1344, -0.0022,  0.0021],\n",
       "       [-0.1586, -0.0006,  0.0156],\n",
       "       [-0.1685, -0.0043, -0.0009],\n",
       "       [-0.1543,  0.    ,  0.0151],\n",
       "       [-0.1064, -0.0011, -0.0103],\n",
       "       [-0.0957, -0.0018,  0.001 ],\n",
       "       [-0.1002,  0.0272, -0.0296],\n",
       "       [-0.1841,  0.0016, -0.0082],\n",
       "       [-0.191 ,  0.0025, -0.0109],\n",
       "       [-0.1539, -0.0036, -0.0193],\n",
       "       [-0.1172,  0.029 , -0.0073],\n",
       "       [ 0.158 ,  0.0356,  0.0606],\n",
       "       [-0.129 ,  0.0107, -0.0175],\n",
       "       [-0.1573, -0.0054, -0.0065],\n",
       "       [-0.1744,  0.0043, -0.0028],\n",
       "       [-0.0963,  0.0373,  0.0254],\n",
       "       [-0.1282, -0.0196, -0.0247]], dtype=float32)"
      ]
     },
     "execution_count": 171,
     "metadata": {},
     "output_type": "execute_result"
    }
   ],
   "source": [
    "np.round(jacobian[0][2],4)"
   ]
  },
  {
   "cell_type": "code",
   "execution_count": 173,
   "metadata": {},
   "outputs": [
    {
     "data": {
      "text/plain": [
       "array([ 0.83829784,  0.47283515,  0.5828725 ,  0.48969528,  0.5135601 ,\n",
       "       13.809104  ,  0.5150374 ,  3.3417737 , -0.7455582 ,  0.8148373 ,\n",
       "        0.47786295,  0.89946914,  0.43380016,  0.68199885,  0.57857025,\n",
       "        0.5142268 ,  0.5803656 ,  0.8666091 ,  0.5707764 ,  0.48477906,\n",
       "        0.41292584,  0.49746943,  0.9544153 ,  0.86352897,  0.7394105 ,\n",
       "        0.3244051 ,  1.2282172 ,  0.7912624 ,  0.8728798 ,  0.7590487 ,\n",
       "       -0.14036167,  0.6560653 ], dtype=float32)"
      ]
     },
     "execution_count": 173,
     "metadata": {},
     "output_type": "execute_result"
    }
   ],
   "source": [
    "np.sum(jacobian[0][0],axis=1)"
   ]
  },
  {
   "cell_type": "code",
   "execution_count": 163,
   "metadata": {},
   "outputs": [
    {
     "data": {
      "text/plain": [
       "array([[ 0.0983,  0.0423,  0.1632],\n",
       "       [ 0.1271, -0.0097,  0.0165],\n",
       "       [ 0.0982,  0.026 , -0.0165],\n",
       "       [ 0.0835,  0.0026,  0.0093],\n",
       "       [ 0.1386, -0.0177,  0.0217],\n",
       "       [ 0.1473, -0.0093,  0.0284],\n",
       "       [ 0.1096, -0.0241,  0.0082],\n",
       "       [ 0.1036, -0.0039, -0.0107],\n",
       "       [ 0.1055,  0.0115, -0.0151],\n",
       "       [ 0.1453, -0.    ,  0.0105],\n",
       "       [ 0.0834,  0.0027,  0.0088],\n",
       "       [ 0.1132,  0.0034,  0.0149],\n",
       "       [ 0.224 ,  0.281 , -0.0764],\n",
       "       [ 0.0889, -0.0256, -0.0097],\n",
       "       [ 0.1273, -0.0107,  0.0172],\n",
       "       [ 0.4895,  0.0317, -0.0477],\n",
       "       [ 0.3039, -0.2572, -0.0445],\n",
       "       [ 0.1436, -0.0002,  0.0103],\n",
       "       [ 0.1436, -0.    ,  0.0104],\n",
       "       [ 0.0855, -0.0481, -0.0142],\n",
       "       [ 0.0958, -0.0051, -0.0052],\n",
       "       [ 0.1442, -0.0001,  0.0106],\n",
       "       [ 0.1083, -0.0055, -0.0088],\n",
       "       [ 4.2469, -0.0842, -0.1255],\n",
       "       [ 0.109 , -0.0057, -0.0093],\n",
       "       [ 0.1099, -0.0116,  0.0122],\n",
       "       [ 0.1154,  0.0034,  0.0147],\n",
       "       [ 0.156 ,  0.0005,  0.01  ],\n",
       "       [-0.3593, -0.1215,  0.1702],\n",
       "       [ 0.0752, -0.0326,  0.133 ],\n",
       "       [ 0.152 ,  0.001 ,  0.0101],\n",
       "       [ 0.0707, -0.0219, -0.079 ]], dtype=float32)"
      ]
     },
     "execution_count": 163,
     "metadata": {},
     "output_type": "execute_result"
    }
   ],
   "source": [
    "np.set_printoptions(suppress=True)\n",
    "\n",
    "np.round(jacobian[0][0],4)"
   ]
  },
  {
   "cell_type": "code",
   "execution_count": 159,
   "metadata": {},
   "outputs": [
    {
     "data": {
      "text/plain": [
       "array([[ 0.0123,  0.0079,  0.0051],\n",
       "       [ 0.0687, -0.0234, -0.0327],\n",
       "       [ 0.016 , -0.0021,  0.0114],\n",
       "       [ 0.0653,  0.0032, -0.0559],\n",
       "       [-0.0278,  0.167 , -0.0871],\n",
       "       [ 0.0527, -0.0014,  0.0206],\n",
       "       [ 0.0032, -0.0359, -0.057 ],\n",
       "       [ 0.036 , -0.0692,  0.1049],\n",
       "       [ 0.0057,  0.0009, -0.0819],\n",
       "       [ 0.0132, -0.0015,  0.0109],\n",
       "       [ 0.0299, -0.0304, -0.0417],\n",
       "       [ 0.0134, -0.1572,  0.3474],\n",
       "       [ 0.1736, -0.0587, -0.1811],\n",
       "       [ 0.0619, -0.0205, -0.0316],\n",
       "       [ 0.0135, -0.0015,  0.0104],\n",
       "       [ 0.0125, -0.001 ,  0.0102],\n",
       "       [ 0.0157, -0.0423,  0.0046],\n",
       "       [ 0.0322, -0.004 ,  0.0089],\n",
       "       [ 0.0671,  0.0154,  0.1211],\n",
       "       [ 0.0642, -0.0216, -0.0321],\n",
       "       [ 0.0509, -0.04  , -0.0175],\n",
       "       [-0.8175, -0.0864,  0.0621],\n",
       "       [ 0.0251, -0.0807,  0.0343],\n",
       "       [ 0.0506, -0.0018,  0.0203],\n",
       "       [-0.0023, -0.0007, -0.0769],\n",
       "       [ 0.0223, -0.0265, -0.0354],\n",
       "       [ 0.0041, -0.0248, -0.0637],\n",
       "       [ 0.0055, -0.0249,  0.0643],\n",
       "       [ 0.0143, -0.0021,  0.0113],\n",
       "       [ 0.0176, -0.0169,  0.0114],\n",
       "       [ 3.4975, -0.1344, -0.0858],\n",
       "       [ 0.084 , -0.0004,  0.0155]], dtype=float32)"
      ]
     },
     "execution_count": 159,
     "metadata": {},
     "output_type": "execute_result"
    }
   ],
   "source": [
    "np.round(jacobian[0][0],4)"
   ]
  },
  {
   "cell_type": "code",
   "execution_count": 161,
   "metadata": {},
   "outputs": [
    {
     "data": {
      "text/plain": [
       "array([[-0.0483, -0.1364, -0.2023],\n",
       "       [-0.1572,  0.0626,  0.0797],\n",
       "       [-0.1847, -0.0397, -0.0513],\n",
       "       [-0.1461,  0.0517, -0.0061],\n",
       "       [-0.1518, -0.2336, -0.266 ],\n",
       "       [ 0.1094, -0.0768, -0.202 ],\n",
       "       [-0.2381,  0.0195, -0.0315],\n",
       "       [-0.2548,  0.0352,  0.044 ],\n",
       "       [-0.2634, -0.0029, -0.0154],\n",
       "       [-0.1826,  0.0382,  0.0044],\n",
       "       [-0.0333, -0.0096, -0.1308],\n",
       "       [-0.1684,  0.0351,  0.0173],\n",
       "       [-0.2866, -0.0319, -0.0931],\n",
       "       [-0.1397, -0.2334, -0.2226],\n",
       "       [-0.0417, -0.0225, -0.0549],\n",
       "       [-0.1467, -0.064 , -0.0842],\n",
       "       [-0.1732,  0.128 ,  0.1401],\n",
       "       [-0.1122,  0.0446,  0.0039],\n",
       "       [ 6.6604,  0.1133,  0.1067],\n",
       "       [ 0.9138, -0.2125,  0.2942],\n",
       "       [-0.1523,  0.2126, -0.0323],\n",
       "       [-0.2177,  0.0049,  0.073 ],\n",
       "       [-0.0262, -0.0297, -0.0358],\n",
       "       [-0.173 ,  0.109 ,  0.1142],\n",
       "       [-0.2357, -0.0312, -0.0281],\n",
       "       [-0.1251,  0.1078, -0.0054],\n",
       "       [-0.1215,  0.0533,  0.0757],\n",
       "       [-0.1476, -0.052 , -0.066 ],\n",
       "       [-0.123 , -0.007 ,  0.1136],\n",
       "       [-0.2491,  0.4121, -0.1081],\n",
       "       [-0.1757,  0.0633,  0.0863],\n",
       "       [-0.0787, -0.0943, -0.1415]], dtype=float32)"
      ]
     },
     "execution_count": 161,
     "metadata": {},
     "output_type": "execute_result"
    }
   ],
   "source": [
    "np.round(jacobian[0][0],4)"
   ]
  },
  {
   "cell_type": "code",
   "execution_count": 147,
   "metadata": {},
   "outputs": [
    {
     "data": {
      "text/plain": [
       "array([0, 0, 0, 3, 0, 3, 3, 0, 4, 3, 4, 3, 2, 4, 3, 3, 1, 2, 1, 2, 0, 0,\n",
       "       1, 4, 3, 2, 2, 2, 4, 0, 1, 2, 3, 0, 2, 1, 2, 4, 2, 0, 3, 0, 0, 0,\n",
       "       0, 4, 4, 2, 1, 4, 2, 3, 1, 1, 0, 0, 1, 4, 3, 0, 3, 2, 0, 1, 3, 1,\n",
       "       0, 3, 4, 4, 1, 4, 2, 1, 4, 4, 3, 1, 4, 1, 0, 3, 1, 4, 2, 4, 1, 3,\n",
       "       4, 3, 0, 2, 2, 0, 2, 0, 0, 1, 3, 4])"
      ]
     },
     "execution_count": 147,
     "metadata": {},
     "output_type": "execute_result"
    }
   ],
   "source": [
    "np.argmax(model(x_val[0:100])[0], axis=1)"
   ]
  },
  {
   "cell_type": "code",
   "execution_count": 155,
   "metadata": {},
   "outputs": [
    {
     "data": {
      "text/plain": [
       "array([0, 0, 0, 3, 0, 3, 3, 0, 0, 3, 4, 3, 2, 4, 3, 3, 0, 2, 1, 2, 4, 0,\n",
       "       0, 4, 3, 2, 2, 2, 0, 1, 0, 2, 3, 0, 2, 1, 3, 4, 2, 0, 2, 0, 1, 1,\n",
       "       0, 4, 4, 2, 3, 0, 2, 3, 1, 1, 0, 0, 1, 1, 3, 0, 3, 2, 0, 4, 3, 1,\n",
       "       0, 3, 4, 4, 2, 4, 0, 1, 4, 4, 3, 3, 4, 1, 0, 3, 1, 3, 1, 4, 1, 0,\n",
       "       4, 3, 0, 2, 2, 4, 1, 0, 1, 1, 4, 4])"
      ]
     },
     "execution_count": 155,
     "metadata": {},
     "output_type": "execute_result"
    }
   ],
   "source": [
    "np.argmax(y_val[0:100],axis=1)"
   ]
  },
  {
   "cell_type": "code",
   "execution_count": 157,
   "metadata": {},
   "outputs": [
    {
     "data": {
      "text/plain": [
       "0.75"
      ]
     },
     "execution_count": 157,
     "metadata": {},
     "output_type": "execute_result"
    }
   ],
   "source": [
    "sklearn.metrics.accuracy_score(np.argmax(model(x_val[0:100])[0], axis=1), np.argmax(y_val[0:100],axis=1))"
   ]
  },
  {
   "cell_type": "code",
   "execution_count": 127,
   "metadata": {},
   "outputs": [
    {
     "data": {
      "text/plain": [
       "<tf.Tensor: shape=(1, 5), dtype=float32, numpy=\n",
       "array([[-0.86453295,  1.4082999 ,  0.17836593,  0.3008775 , -0.02300951]],\n",
       "      dtype=float32)>"
      ]
     },
     "execution_count": 127,
     "metadata": {},
     "output_type": "execute_result"
    }
   ],
   "source": [
    "effective_bias"
   ]
  },
  {
   "cell_type": "code",
   "execution_count": 168,
   "metadata": {},
   "outputs": [
    {
     "data": {
      "text/plain": [
       "array([[ 0.01540056,  0.27330076,  0.06043486],\n",
       "       [ 0.41598642, -0.39883983, -0.13973471],\n",
       "       [-0.03435748,  0.25502133,  0.07868784],\n",
       "       [ 0.01695615, -0.24356107, -0.14393863],\n",
       "       [-0.06482067, -0.01919468,  0.16892347],\n",
       "       [ 0.70872636, -0.36785357, -0.12557068],\n",
       "       [ 0.04349594,  0.27330082,  0.13344413],\n",
       "       [ 0.51290441,  0.25905584,  0.08480777],\n",
       "       [ 0.50259037, -0.38763725, -0.10549216],\n",
       "       [-0.02880128,  0.08082012,  0.1715042 ],\n",
       "       [ 0.01736431, -0.42131734, -0.12208748],\n",
       "       [-0.05177234,  0.19013752, -0.01681596],\n",
       "       [ 0.02744442,  0.08972716, -0.04119508],\n",
       "       [ 0.0438083 ,  0.19039597,  0.02298128],\n",
       "       [-0.07477954, -0.51271448, -0.19509674],\n",
       "       [-0.04614322, -0.29125824, -0.13264271],\n",
       "       [-0.0471552 , -0.06901819,  0.05942104],\n",
       "       [ 0.4431731 ,  0.26383687,  0.10795129],\n",
       "       [-0.06870471, -0.3664792 , -0.10383519],\n",
       "       [-0.00853053,  0.30985963,  0.06043472],\n",
       "       [-0.0331744 ,  0.10878583,  0.11519193],\n",
       "       [ 1.32117583,  0.30071966,  0.10606587],\n",
       "       [-0.06869467,  0.01738859, -0.01257377],\n",
       "       [ 0.25108801,  0.26416084,  0.10606607],\n",
       "       [ 0.02821737, -0.05378771,  0.21383597],\n",
       "       [-0.0005446 ,  0.09117237, -0.00697753],\n",
       "       [ 0.79854893, -0.36647925, -0.14033955],\n",
       "       [-0.00062991,  0.07222701, -0.08558303],\n",
       "       [-0.06844984,  0.03566835, -0.04907895],\n",
       "       [ 0.18634123,  0.27330076,  0.11519205],\n",
       "       [-0.03279904, -0.38475871, -0.1403394 ],\n",
       "       [ 0.02240635,  0.26049634,  0.05387973]])"
      ]
     },
     "execution_count": 168,
     "metadata": {},
     "output_type": "execute_result"
    }
   ],
   "source": [
    "x_train[0]"
   ]
  },
  {
   "cell_type": "code",
   "execution_count": null,
   "metadata": {},
   "outputs": [],
   "source": []
  }
 ],
 "metadata": {
  "kernelspec": {
   "display_name": "tf_env",
   "language": "python",
   "name": "python3"
  },
  "language_info": {
   "codemirror_mode": {
    "name": "ipython",
    "version": 3
   },
   "file_extension": ".py",
   "mimetype": "text/x-python",
   "name": "python",
   "nbconvert_exporter": "python",
   "pygments_lexer": "ipython3",
   "version": "3.12.9"
  }
 },
 "nbformat": 4,
 "nbformat_minor": 2
}
